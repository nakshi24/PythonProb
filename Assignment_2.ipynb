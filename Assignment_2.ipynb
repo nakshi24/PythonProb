{
  "nbformat": 4,
  "nbformat_minor": 0,
  "metadata": {
    "colab": {
      "name": "Assignment-2.ipynb",
      "version": "0.3.2",
      "provenance": [],
      "collapsed_sections": [],
      "include_colab_link": true
    },
    "kernelspec": {
      "name": "python3",
      "display_name": "Python 3"
    }
  },
  "cells": [
    {
      "cell_type": "markdown",
      "metadata": {
        "id": "view-in-github",
        "colab_type": "text"
      },
      "source": [
        "<a href=\"https://colab.research.google.com/github/nakshi24/PythonProb/blob/master/Assignment_2.ipynb\" target=\"_parent\"><img src=\"https://colab.research.google.com/assets/colab-badge.svg\" alt=\"Open In Colab\"/></a>"
      ]
    },
    {
      "cell_type": "code",
      "metadata": {
        "id": "gtekb6PU0HpB",
        "colab_type": "code",
        "outputId": "a811e9db-2bcb-4bd6-a224-a264089b253f",
        "colab": {
          "base_uri": "https://localhost:8080/",
          "height": 51
        }
      },
      "source": [
        "d = int(input(\"Enter number\"))\n",
        "if d==1 :\n",
        "  print(\"Sunday\")\n",
        "elif d==2 :\n",
        "  print(\"Monday\")\n",
        "elif d==3 :\n",
        "  print(\"Tuesday\")\n",
        "elif d==4 :\n",
        "  print(\"Wednesday\")\n",
        "elif d==5 :\n",
        "  print(\"Thursday\")\n",
        "elif d==6 :\n",
        "  print(\"Friday\")\n",
        "elif d==7 :\n",
        "  print(\"Saturday\")\n",
        "else:\n",
        "  print(\"Invalid\")"
      ],
      "execution_count": 0,
      "outputs": [
        {
          "output_type": "stream",
          "text": [
            "Enter number7\n",
            "Saturday\n"
          ],
          "name": "stdout"
        }
      ]
    },
    {
      "cell_type": "code",
      "metadata": {
        "id": "xtlhFUXG5bDF",
        "colab_type": "code",
        "outputId": "eb886d10-8c85-4213-a1d3-6af12988de21",
        "colab": {
          "base_uri": "https://localhost:8080/",
          "height": 51
        }
      },
      "source": [
        "y = int(input(\"Enter year\"))\n",
        "if y%4==0:\n",
        "   print(\"Leap year\")\n",
        "else:\n",
        "   print(\"Non leap year\")"
      ],
      "execution_count": 0,
      "outputs": [
        {
          "output_type": "stream",
          "text": [
            "Enter year2020\n",
            "Leap year\n"
          ],
          "name": "stdout"
        }
      ]
    },
    {
      "cell_type": "code",
      "metadata": {
        "id": "dHH7L9X71vyG",
        "colab_type": "code",
        "outputId": "15d1f984-0a86-4d85-a322-c1acbb3f3c17",
        "colab": {
          "base_uri": "https://localhost:8080/",
          "height": 51
        }
      },
      "source": [
        "n = int(input(\"Enter number\"))\n",
        "sum = (n*(n-1))/2\n",
        "print(\"The sum of numbers upto n is {0}\".format(sum))"
      ],
      "execution_count": 0,
      "outputs": [
        {
          "output_type": "stream",
          "text": [
            "Enter number5\n",
            "The sum of numbers upto n is 10.0\n"
          ],
          "name": "stdout"
        }
      ]
    },
    {
      "cell_type": "code",
      "metadata": {
        "id": "w9w2MmRr6lie",
        "colab_type": "code",
        "outputId": "b80a217b-5433-4de4-9859-793d7596f02b",
        "colab": {
          "base_uri": "https://localhost:8080/",
          "height": 85
        }
      },
      "source": [
        "x = int(input(\"Enter x\"))\n",
        " y = int(input(\"Enter y\")) \n",
        "z = int(input(\"Enter z\")) \n",
        "if (x>y) and (x>z):\n",
        "  print(\"First number is greater\")\n",
        "elif (y>z) and (y>x):\n",
        "  print(\"Second number is greater\")\n",
        "else:\n",
        "  print(\"Third number is greater\")"
      ],
      "execution_count": 0,
      "outputs": [
        {
          "output_type": "stream",
          "text": [
            "Enter x42\n",
            "Enter y35\n",
            "Enter z63\n",
            "Third number is greater\n"
          ],
          "name": "stdout"
        }
      ]
    },
    {
      "cell_type": "code",
      "metadata": {
        "id": "T1cAqjab1v5F",
        "colab_type": "code",
        "outputId": "78895f5b-2cca-40a1-b394-e8d598b96001",
        "colab": {
          "base_uri": "https://localhost:8080/",
          "height": 68
        }
      },
      "source": [
        "n = int(input(\"Enter number\"))\n",
        "sum = (n*(n-1))/2\n",
        "print(\"The sum of numbers upto n is {0}\".format(sum))\n",
        "avg = sum/n\n",
        "print(\"The average is {0}\".format(avg))"
      ],
      "execution_count": 0,
      "outputs": [
        {
          "output_type": "stream",
          "text": [
            "Enter number5\n",
            "The sum of numbers upto n is 10.0\n",
            "The average is 2.0\n"
          ],
          "name": "stdout"
        }
      ]
    },
    {
      "cell_type": "code",
      "metadata": {
        "id": "AsNzYSN_6xLZ",
        "colab_type": "code",
        "outputId": "0c26487b-8118-4ce4-93ed-0598dd59a8cc",
        "colab": {
          "base_uri": "https://localhost:8080/",
          "height": 51
        }
      },
      "source": [
        "n = int(input(\"Enter number\"))\n",
        "sum = 0\n",
        "for i in range(1,n+1):\n",
        "    if(i%2!=0):\n",
        "       sum=sum + i\n",
        "        \n",
        "print(\"Sum of odd integers is {0}\".format(sum))"
      ],
      "execution_count": 0,
      "outputs": [
        {
          "output_type": "stream",
          "text": [
            "Enter number5\n",
            "Sum of odd integers is 9\n"
          ],
          "name": "stdout"
        }
      ]
    },
    {
      "cell_type": "code",
      "metadata": {
        "id": "cn1kA12h1wB6",
        "colab_type": "code",
        "outputId": "1ec30d45-1470-451c-fb88-b4107df50fd1",
        "colab": {
          "base_uri": "https://localhost:8080/",
          "height": 119
        }
      },
      "source": [
        "n = int(input(\"Enter number\"))\n",
        "print(\"The divisors of {0} are\".format(n))\n",
        "for i in range(1,n+1):\n",
        "    if(n%i==0):\n",
        "       print(i)"
      ],
      "execution_count": 0,
      "outputs": [
        {
          "output_type": "stream",
          "text": [
            "Enter number10\n",
            "The divisors of 10 are\n",
            "1\n",
            "2\n",
            "5\n",
            "10\n"
          ],
          "name": "stdout"
        }
      ]
    },
    {
      "cell_type": "code",
      "metadata": {
        "id": "Ft9XVQN17zjs",
        "colab_type": "code",
        "outputId": "8b6b4049-54b4-4474-adbc-0588130a7d22",
        "colab": {
          "base_uri": "https://localhost:8080/",
          "height": 85
        }
      },
      "source": [
        "a = int(input(\"Enter a\"))\n",
        "b = int(input(\"Enter b\")) \n",
        "c = int(input(\"Enter c\")) \n",
        "d = (b*b-4*a*c)**0.5\n",
        "x = (-b+d)/2*a\n",
        "y = (-b-d)/2*a\n",
        "print(\"The roots of the QE are {0} and {1}\".format(x,y))"
      ],
      "execution_count": 0,
      "outputs": [
        {
          "output_type": "stream",
          "text": [
            "Enter a1\n",
            "Enter b-4\n",
            "Enter c4\n",
            "The roots of the QE are 2.0 and 2.0\n"
          ],
          "name": "stdout"
        }
      ]
    },
    {
      "cell_type": "code",
      "metadata": {
        "id": "m_xk9HNH831C",
        "colab_type": "code",
        "outputId": "870f99c1-a314-49c1-9ac4-cce88e52f2bb",
        "colab": {
          "base_uri": "https://localhost:8080/",
          "height": 85
        }
      },
      "source": [
        "x = int(input(\"Enter x\"))\n",
        "y = int(input(\"Enter y\")) \n",
        "z = int(input(\"Enter z\")) \n",
        "if (x+y)>z and (y+z)>x and (x+z)>y:\n",
        "  print(\"Valid triangle\")\n",
        "else:\n",
        "  print(\"Not valid\")"
      ],
      "execution_count": 0,
      "outputs": [
        {
          "output_type": "stream",
          "text": [
            "Enter x4\n",
            "Enter y2\n",
            "Enter z1\n",
            "Not valid\n"
          ],
          "name": "stdout"
        }
      ]
    },
    {
      "cell_type": "code",
      "metadata": {
        "id": "-9-G11WW1wL7",
        "colab_type": "code",
        "outputId": "4b8550e5-7fb5-46cc-b5bc-13c643d62ee9",
        "colab": {
          "base_uri": "https://localhost:8080/",
          "height": 51
        }
      },
      "source": [
        "c = float(input(\"Enter temperature in Celsius\"))\n",
        "f = 9*c/5 + 32\n",
        "print(\"Temperature in Fahrenheit is {0}\".format(f))"
      ],
      "execution_count": 0,
      "outputs": [
        {
          "output_type": "stream",
          "text": [
            "Enter temperature in Celsius100\n",
            "Temperature in Fahrenheit is 212.0\n"
          ],
          "name": "stdout"
        }
      ]
    }
  ]
}