{
  "nbformat": 4,
  "nbformat_minor": 0,
  "metadata": {
    "colab": {
      "name": "09/07.ipynb",
      "version": "0.3.2",
      "provenance": [],
      "collapsed_sections": [],
      "include_colab_link": true
    },
    "kernelspec": {
      "name": "python3",
      "display_name": "Python 3"
    }
  },
  "cells": [
    {
      "cell_type": "markdown",
      "metadata": {
        "id": "view-in-github",
        "colab_type": "text"
      },
      "source": [
        "<a href=\"https://colab.research.google.com/github/nakshi24/PythonProb/blob/master/09_07.ipynb\" target=\"_parent\"><img src=\"https://colab.research.google.com/assets/colab-badge.svg\" alt=\"Open In Colab\"/></a>"
      ]
    },
    {
      "cell_type": "code",
      "metadata": {
        "id": "8czg9Mqq3mR9",
        "colab_type": "code",
        "outputId": "736d3687-d187-42a6-cc1f-07e748df0073",
        "colab": {
          "base_uri": "https://localhost:8080/",
          "height": 136
        }
      },
      "source": [
        "lst = [1,8,16,9,2]\n",
        "print(lst)\n",
        "print(lst[0])\n",
        "print(lst[-1:])\n",
        "for x in range(len(lst)):\n",
        "  print(lst[x],end=\" \")"
      ],
      "execution_count": 0,
      "outputs": [
        {
          "output_type": "stream",
          "text": [
            "[1, 8, 16, 9, 2]\n",
            "1\n",
            "[2]\n",
            "1 8 16 9 2 [1, 8, 16, 9, 2]\n",
            "1\n",
            "[2]\n",
            "1 8 16 9 2 "
          ],
          "name": "stdout"
        }
      ]
    },
    {
      "cell_type": "code",
      "metadata": {
        "id": "hlw_C9I95VwL",
        "colab_type": "code",
        "outputId": "98ca4026-7590-4b82-8bb2-c9264f45e420",
        "colab": {
          "base_uri": "https://localhost:8080/",
          "height": 51
        }
      },
      "source": [
        "l1 = [19,2,8,11]\n",
        "print(max(l1))\n",
        "print(min(l1))\n",
        "lst = [1,2,3]\n",
        "lst.append(24)\n",
        "lst.insert(2,21)\n",
        "lst.index(24)\n",
        "lst.sort()\n"
      ],
      "execution_count": 0,
      "outputs": [
        {
          "output_type": "stream",
          "text": [
            "19\n",
            "2\n"
          ],
          "name": "stdout"
        }
      ]
    },
    {
      "cell_type": "code",
      "metadata": {
        "id": "c9C5HC105V12",
        "colab_type": "code",
        "outputId": "060237b6-8c06-422b-e3af-22c35c312cdd",
        "colab": {
          "base_uri": "https://localhost:8080/",
          "height": 34
        }
      },
      "source": [
        "lst=[1,9,8,2,6,3]\n",
        "print(lst[-1:2:-2])"
      ],
      "execution_count": 0,
      "outputs": [
        {
          "output_type": "stream",
          "text": [
            "[3, 2]\n"
          ],
          "name": "stdout"
        }
      ]
    },
    {
      "cell_type": "code",
      "metadata": {
        "id": "SoOG4Vw65V7Y",
        "colab_type": "code",
        "outputId": "fea21dc6-c34c-4f1d-83c0-f95d28a744f1",
        "colab": {
          "base_uri": "https://localhost:8080/",
          "height": 34
        }
      },
      "source": [
        "def lsearch(li,key):\n",
        "  for x in range (len(li)):\n",
        "    if li[x]==key:\n",
        "      return x\n",
        "  return -1\n",
        "li=[6,9,4,3,11,75]\n",
        "lsearch(li,11)"
      ],
      "execution_count": 0,
      "outputs": [
        {
          "output_type": "execute_result",
          "data": {
            "text/plain": [
              "4"
            ]
          },
          "metadata": {
            "tags": []
          },
          "execution_count": 23
        }
      ]
    },
    {
      "cell_type": "code",
      "metadata": {
        "id": "xiHYbROYVBwS",
        "colab_type": "code",
        "outputId": "dbeb5d58-9768-4044-c94f-a38eec28000a",
        "colab": {
          "base_uri": "https://localhost:8080/",
          "height": 34
        }
      },
      "source": [
        "def lsearch2(li,key):\n",
        "  for x in range(len(li)):\n",
        "    if li[x]==key:\n",
        "      print(x,end=\" \")\n",
        "  return \n",
        "li = [3,2,5,4,6,5,7,9,5]\n",
        "lsearch2(li,5)"
      ],
      "execution_count": 0,
      "outputs": [
        {
          "output_type": "stream",
          "text": [
            "2 5 8 "
          ],
          "name": "stdout"
        }
      ]
    },
    {
      "cell_type": "code",
      "metadata": {
        "id": "Z4IMy8SIbAgp",
        "colab_type": "code",
        "outputId": "6ae3d8bd-b147-4a26-a5ce-2266977fd313",
        "colab": {
          "base_uri": "https://localhost:8080/",
          "height": 34
        }
      },
      "source": [
        "def lsearch2(li,key):\n",
        "  for x in range(len(li)):\n",
        "    if li[x]==key:\n",
        "      for i in range(0,x):\n",
        "        print(\"!\",end=\" \")\n",
        "      print(end=\" \")\n",
        "  return \n",
        "li = [3,2,5,4,6,5,7,9,5]\n",
        "lsearch2(li,5)"
      ],
      "execution_count": 0,
      "outputs": [
        {
          "output_type": "stream",
          "text": [
            "! !  ! ! ! ! !  ! ! ! ! ! ! ! !  "
          ],
          "name": "stdout"
        }
      ]
    },
    {
      "cell_type": "code",
      "metadata": {
        "id": "KQK9xn_pfjGR",
        "colab_type": "code",
        "outputId": "c017fd21-c87c-4988-9dbd-4ea1070f7dd2",
        "colab": {
          "base_uri": "https://localhost:8080/",
          "height": 34
        }
      },
      "source": [
        "def multipleli(li):\n",
        "  sum=0\n",
        "  for i in range(len(li)):\n",
        "    if li[i]%3 == 0 and li[i]%5==0:\n",
        "      sum = sum + li[i]\n",
        "  print(sum)\n",
        "  return\n",
        "li = [4,75,25,15]\n",
        "multipleli(li)\n"
      ],
      "execution_count": 0,
      "outputs": [
        {
          "output_type": "stream",
          "text": [
            "90\n"
          ],
          "name": "stdout"
        }
      ]
    },
    {
      "cell_type": "code",
      "metadata": {
        "id": "M-gem3WqfjOX",
        "colab_type": "code",
        "outputId": "c7d32f47-9d45-4e06-c08b-0dc845f020f9",
        "colab": {
          "base_uri": "https://localhost:8080/",
          "height": 34
        }
      },
      "source": [
        "def formatlist(li):\n",
        "  l = [1,1,1,1,1]\n",
        "  l[0]=li[0]\n",
        "  l[len(l)-1]=li[len(li)-1]\n",
        "  prod = 1\n",
        "  for i in range(1,len(li)-1):\n",
        "    prod = li[i-1]*li[i+1]\n",
        "    l[i]=prod\n",
        "  print(l)\n",
        "  \n",
        "  return\n",
        "li = [1,2,3,4,5]\n",
        "formatlist(li)"
      ],
      "execution_count": 0,
      "outputs": [
        {
          "output_type": "stream",
          "text": [
            "[1, 3, 8, 15, 5]\n"
          ],
          "name": "stdout"
        }
      ]
    },
    {
      "cell_type": "code",
      "metadata": {
        "id": "Od1vqbEakH3O",
        "colab_type": "code",
        "outputId": "21ff7a55-a932-49ce-e7c6-d7f3c516a135",
        "colab": {
          "base_uri": "https://localhost:8080/",
          "height": 34
        }
      },
      "source": [
        "def fList(li):\n",
        "  for i in range(0,len(li)):\n",
        "    if i == 0 or i == len(li)-1:\n",
        "      print(li[i],end=\" \")\n",
        "    \n",
        "    elif li[i-1]%2 == 0 and li[i+1]%2 == 0:\n",
        "        print(li[i],end=\" \")\n",
        "  return\n",
        "li = [1,6,9,4,16,19,22]\n",
        "fList(li)\n",
        "    \n",
        "      \n",
        "    "
      ],
      "execution_count": 0,
      "outputs": [
        {
          "output_type": "stream",
          "text": [
            "1 9 19 22 "
          ],
          "name": "stdout"
        }
      ]
    },
    {
      "cell_type": "code",
      "metadata": {
        "id": "73WV-P3s7zgR",
        "colab_type": "code",
        "outputId": "bc03d46d-0121-4f35-91c0-123c0bddd2f7",
        "colab": {
          "base_uri": "https://localhost:8080/",
          "height": 51
        }
      },
      "source": [
        "def NumtoList(num):\n",
        "  l=[]\n",
        "  i = 0\n",
        "  while num!= 0:\n",
        "    r = num % 10\n",
        "    l.append(r)\n",
        "    num = num//10\n",
        "    i = i+1\n",
        "  l.reverse()\n",
        "  return l\n",
        "   \n",
        "n = int(input(\"Enter number\"))  \n",
        "NumtoList(n)"
      ],
      "execution_count": 0,
      "outputs": [
        {
          "output_type": "stream",
          "text": [
            "Enter number678\n"
          ],
          "name": "stdout"
        },
        {
          "output_type": "execute_result",
          "data": {
            "text/plain": [
              "[6, 7, 8]"
            ]
          },
          "metadata": {
            "tags": []
          },
          "execution_count": 73
        }
      ]
    },
    {
      "cell_type": "code",
      "metadata": {
        "id": "rr3Mo62e7zsu",
        "colab_type": "code",
        "outputId": "f96a2162-aee2-466a-8fa2-2aabf56fe2ed",
        "colab": {
          "base_uri": "https://localhost:8080/",
          "height": 34
        }
      },
      "source": [
        "def countChar(s,c):\n",
        "  cnt = 0\n",
        "  for ch in s:\n",
        "    if ch == c:\n",
        "      cnt = cnt +1 \n",
        "  return cnt\n",
        "countChar(\"Python Programming\",'y')"
      ],
      "execution_count": 0,
      "outputs": [
        {
          "output_type": "execute_result",
          "data": {
            "text/plain": [
              "1"
            ]
          },
          "metadata": {
            "tags": []
          },
          "execution_count": 76
        }
      ]
    },
    {
      "cell_type": "code",
      "metadata": {
        "id": "LEkfpGFN7zz2",
        "colab_type": "code",
        "outputId": "ad169bae-2d86-4700-8d64-9600800a9193",
        "colab": {
          "base_uri": "https://localhost:8080/",
          "height": 34
        }
      },
      "source": [
        "def stringtolist(s):\n",
        "  l = s.split()\n",
        "  numberList = []\n",
        "  \n",
        "  for i in l:\n",
        "    numberList.append(int(i))\n",
        "  \n",
        "  return numberList\n",
        "s = \"1 2 3 4 5 6\"\n",
        "stringtolist(s)\n"
      ],
      "execution_count": 0,
      "outputs": [
        {
          "output_type": "execute_result",
          "data": {
            "text/plain": [
              "[1, 2, 3, 4, 5, 6]"
            ]
          },
          "metadata": {
            "tags": []
          },
          "execution_count": 77
        }
      ]
    },
    {
      "cell_type": "code",
      "metadata": {
        "id": "yFQG_Btu7z5I",
        "colab_type": "code",
        "outputId": "a9e3b8b4-12cf-4705-d824-0d9dc6f04c19",
        "colab": {
          "base_uri": "https://localhost:8080/",
          "height": 34
        }
      },
      "source": [
        "def BubbleSort(li):\n",
        "  for i in range(len(li)-1):\n",
        "    for j in range(len(li)-1):\n",
        "      if li[j] > li[j+1]:\n",
        "        li[j],li[j+1]=li[j+1],li[j]\n",
        "  return li\n",
        "li = [19,1,25,6,18,3]\n",
        "BubbleSort(li)"
      ],
      "execution_count": 0,
      "outputs": [
        {
          "output_type": "execute_result",
          "data": {
            "text/plain": [
              "[1, 3, 6, 18, 19, 25]"
            ]
          },
          "metadata": {
            "tags": []
          },
          "execution_count": 79
        }
      ]
    },
    {
      "cell_type": "code",
      "metadata": {
        "id": "TNG21b07Op7j",
        "colab_type": "code",
        "outputId": "a3a5d75a-d83b-4be7-917f-41f644061f4d",
        "colab": {
          "base_uri": "https://localhost:8080/",
          "height": 34
        }
      },
      "source": [
        "def myFun(x):\n",
        "  x = [20,30,40]\n",
        "lst = [10,11,12]\n",
        "myFun(lst)\n",
        "print(lst)"
      ],
      "execution_count": 0,
      "outputs": [
        {
          "output_type": "stream",
          "text": [
            "[10, 11, 12]\n"
          ],
          "name": "stdout"
        }
      ]
    }
  ]
}