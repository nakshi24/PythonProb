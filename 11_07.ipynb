{
  "nbformat": 4,
  "nbformat_minor": 0,
  "metadata": {
    "colab": {
      "name": "11/07.ipynb",
      "version": "0.3.2",
      "provenance": [],
      "collapsed_sections": [],
      "include_colab_link": true
    },
    "kernelspec": {
      "name": "python3",
      "display_name": "Python 3"
    }
  },
  "cells": [
    {
      "cell_type": "markdown",
      "metadata": {
        "id": "view-in-github",
        "colab_type": "text"
      },
      "source": [
        "<a href=\"https://colab.research.google.com/github/nakshi24/PythonProb/blob/master/11_07.ipynb\" target=\"_parent\"><img src=\"https://colab.research.google.com/assets/colab-badge.svg\" alt=\"Open In Colab\"/></a>"
      ]
    },
    {
      "cell_type": "code",
      "metadata": {
        "id": "_cKP07zvK8D_",
        "colab_type": "code",
        "outputId": "86ece439-0861-48ec-8144-7611c8279023",
        "colab": {
          "base_uri": "https://localhost:8080/",
          "height": 34
        }
      },
      "source": [
        "#Function to create a file and write to the file\n",
        "def createFile(fname):\n",
        "  f = open(fname,'w')\n",
        "  for i in range(10):\n",
        "    f.write('This is %d line'%i)\n",
        "  print(\"File is created and data has been written\")\n",
        "  return\n",
        "createFile('file.txt')\n"
      ],
      "execution_count": 0,
      "outputs": [
        {
          "output_type": "stream",
          "text": [
            "File is created and data has been written\n"
          ],
          "name": "stdout"
        }
      ]
    },
    {
      "cell_type": "code",
      "metadata": {
        "id": "Anoet9RhMvjQ",
        "colab_type": "code",
        "outputId": "eb37ef33-ce71-4e15-bedd-661041a0c3fc",
        "colab": {
          "base_uri": "https://localhost:8080/",
          "height": 54
        }
      },
      "source": [
        "cat file.txt\n"
      ],
      "execution_count": 0,
      "outputs": [
        {
          "output_type": "stream",
          "text": [
            "This is 0 lineThis is 1 lineThis is 2 lineThis is 3 lineThis is 4 lineThis is 5 lineThis is 6 lineThis is 7 lineThis is 8 lineThis is 9 line"
          ],
          "name": "stdout"
        }
      ]
    },
    {
      "cell_type": "code",
      "metadata": {
        "id": "KI37uXmPPt0H",
        "colab_type": "code",
        "outputId": "8a059e82-fec9-453b-9ea0-4f31f0a595c3",
        "colab": {
          "base_uri": "https://localhost:8080/",
          "height": 34
        }
      },
      "source": [
        "def createFile(filename):\n",
        "  f = open(filename,'w')\n",
        "  f.write('Testing...\\n')\n",
        "  print(\"File is created and data has been written\")\n",
        "  return\n",
        "createFile('f.txt')"
      ],
      "execution_count": 0,
      "outputs": [
        {
          "output_type": "stream",
          "text": [
            "File is created and data has been written\n"
          ],
          "name": "stdout"
        }
      ]
    },
    {
      "cell_type": "code",
      "metadata": {
        "id": "xiTUcjcfPt8Z",
        "colab_type": "code",
        "outputId": "1ddb3cb3-f3cb-4e5d-aef1-00317ea2a720",
        "colab": {
          "base_uri": "https://localhost:8080/",
          "height": 34
        }
      },
      "source": [
        "cat f.txt\n"
      ],
      "execution_count": 0,
      "outputs": [
        {
          "output_type": "stream",
          "text": [
            "Testing...\n"
          ],
          "name": "stdout"
        }
      ]
    },
    {
      "cell_type": "code",
      "metadata": {
        "id": "sxWew_W3PuCn",
        "colab_type": "code",
        "outputId": "e48b91ea-f960-4191-bde3-b378f340d18f",
        "colab": {
          "base_uri": "https://localhost:8080/",
          "height": 34
        }
      },
      "source": [
        "def appendData(filename):\n",
        "  f = open(filename,'a')\n",
        "  for i in range(10):\n",
        "    f.write(\"this is %d line\\n\"%i)\n",
        "  print(\"File created and data successfully written\")\n",
        "  return\n",
        "appendData('f2.txt')"
      ],
      "execution_count": 0,
      "outputs": [
        {
          "output_type": "stream",
          "text": [
            "File created and data successfully written\n"
          ],
          "name": "stdout"
        }
      ]
    },
    {
      "cell_type": "code",
      "metadata": {
        "id": "uUf1Zey8PuI8",
        "colab_type": "code",
        "outputId": "e1b7f7a4-352c-4de2-ca82-bb32d27aef4f",
        "colab": {
          "base_uri": "https://localhost:8080/",
          "height": 85
        }
      },
      "source": [
        "def fileOperations(filename,mode):\n",
        "  with open(filename,mode) as f:\n",
        "    if f.mode == 'r':\n",
        "      data = f.read()\n",
        "      print(data)\n",
        "    elif f.mode == 'a':\n",
        "      f.write('Data to the file')\n",
        "      print('The data successfully written')\n",
        "    return\n",
        "filename = input('Enter the file name')\n",
        "mode = input('Enter the mode of the file')\n",
        "fileOperations(filename,mode)\n",
        "\n"
      ],
      "execution_count": 0,
      "outputs": [
        {
          "output_type": "stream",
          "text": [
            "Enter the file namef.txt\n",
            "Enter the mode of the filer\n",
            "Testing...\n",
            "\n"
          ],
          "name": "stdout"
        }
      ]
    },
    {
      "cell_type": "code",
      "metadata": {
        "id": "VayZmQKVPuOa",
        "colab_type": "code",
        "outputId": "344e08a5-8699-48fc-c7e5-8f00cfcbde37",
        "colab": {
          "base_uri": "https://localhost:8080/",
          "height": 68
        }
      },
      "source": [
        "def wordCount(filename,word):\n",
        "  with open(filename,'r') as f:\n",
        "    if f.mode == 'r':\n",
        "      x = f.read()\n",
        "      li = x.split()\n",
        "  cnt = li.count(word)\n",
        "  return cnt\n",
        "filename = input('Enter the file name:')\n",
        "word = input('Enter the word:')\n",
        "wordCount(filename,word)"
      ],
      "execution_count": 0,
      "outputs": [
        {
          "output_type": "stream",
          "text": [
            "Enter the fie name:file.txt\n",
            "Enter the word:this\n"
          ],
          "name": "stdout"
        },
        {
          "output_type": "execute_result",
          "data": {
            "text/plain": [
              "0"
            ]
          },
          "metadata": {
            "tags": []
          },
          "execution_count": 19
        }
      ]
    },
    {
      "cell_type": "code",
      "metadata": {
        "id": "6HUqUOOEPuTv",
        "colab_type": "code",
        "outputId": "a33f041e-2b60-4e5f-de88-adf3f89267ee",
        "colab": {
          "base_uri": "https://localhost:8080/",
          "height": 51
        }
      },
      "source": [
        "#character count from the given file\n",
        "def charCount(filename):\n",
        "  with open(filename,'r') as f:\n",
        "    if f.mode == 'r':\n",
        "      x = f.read()\n",
        "      li = list(x)\n",
        "  return len(li)\n",
        "filename = input(\"Enter filename\")\n",
        "charCount(filename)"
      ],
      "execution_count": 0,
      "outputs": [
        {
          "output_type": "stream",
          "text": [
            "Enter filenamef.txt\n"
          ],
          "name": "stdout"
        },
        {
          "output_type": "execute_result",
          "data": {
            "text/plain": [
              "11"
            ]
          },
          "metadata": {
            "tags": []
          },
          "execution_count": 21
        }
      ]
    },
    {
      "cell_type": "code",
      "metadata": {
        "id": "z2dsupcgPuYn",
        "colab_type": "code",
        "outputId": "c3252f60-9e76-4101-ead7-939d17879ed0",
        "colab": {
          "base_uri": "https://localhost:8080/",
          "height": 34
        }
      },
      "source": [
        "s1 = \"Python Programming\"\n",
        "print(s1.split('a'))"
      ],
      "execution_count": 0,
      "outputs": [
        {
          "output_type": "stream",
          "text": [
            "['Python Progr', 'mming']\n"
          ],
          "name": "stdout"
        }
      ]
    },
    {
      "cell_type": "code",
      "metadata": {
        "id": "XrSD7mHVPueP",
        "colab_type": "code",
        "outputId": "b122e89d-2be3-4e72-fa3b-44d23eb8889d",
        "colab": {
          "base_uri": "https://localhost:8080/",
          "height": 51
        }
      },
      "source": [
        "def countLines(filename):\n",
        "  with open(filename,'r') as f:\n",
        "    if f.mode == 'r':\n",
        "      x = f.read()\n",
        "      li = x.split(\"\\n\")\n",
        "  return len(li)\n",
        "filename = input(\"Enter filename\")\n",
        "countLines(filename)"
      ],
      "execution_count": 0,
      "outputs": [
        {
          "output_type": "stream",
          "text": [
            "Enter filenamef.txt\n"
          ],
          "name": "stdout"
        },
        {
          "output_type": "execute_result",
          "data": {
            "text/plain": [
              "2"
            ]
          },
          "metadata": {
            "tags": []
          },
          "execution_count": 24
        }
      ]
    },
    {
      "cell_type": "code",
      "metadata": {
        "id": "UV_l5AyMbLHm",
        "colab_type": "code",
        "outputId": "83fbd343-5e13-4bf3-ee54-d764773f7f6f",
        "colab": {
          "base_uri": "https://localhost:8080/",
          "height": 51
        }
      },
      "source": [
        "def caseCount(filename):\n",
        "  cntUpper = 0\n",
        "  cntLower = 0\n",
        "  with open(filename,'r') as f:\n",
        "    if f.mode == 'r':\n",
        "      x = f.read()\n",
        "      li = list(x)\n",
        "  for i in li:\n",
        "    if i.isupper():\n",
        "      cntUpper += 1\n",
        "    if i.islower():\n",
        "      cntLower += 1\n",
        "  output = \"Lower case = {0}, Upper case = {1}\".format(cntLower,cntUpper)\n",
        "  return output\n",
        "filename = input(\"Enter filename\")\n",
        "caseCount(filename)\n",
        "  "
      ],
      "execution_count": 0,
      "outputs": [
        {
          "output_type": "stream",
          "text": [
            "Enter filenamef.txt\n"
          ],
          "name": "stdout"
        },
        {
          "output_type": "execute_result",
          "data": {
            "text/plain": [
              "'Lower case = 6, Upper case = 1'"
            ]
          },
          "metadata": {
            "tags": []
          },
          "execution_count": 26
        }
      ]
    },
    {
      "cell_type": "code",
      "metadata": {
        "id": "Vd6j1Zl4bLOs",
        "colab_type": "code",
        "colab": {}
      },
      "source": [
        "import os\n"
      ],
      "execution_count": 0,
      "outputs": []
    },
    {
      "cell_type": "code",
      "metadata": {
        "id": "ldJTFSye09z2",
        "colab_type": "code",
        "outputId": "dbbd0049-f87a-4475-ba5f-a79c9cedc863",
        "colab": {
          "base_uri": "https://localhost:8080/",
          "height": 34
        }
      },
      "source": [
        "cd ..\n"
      ],
      "execution_count": 0,
      "outputs": [
        {
          "output_type": "stream",
          "text": [
            "/\n"
          ],
          "name": "stdout"
        }
      ]
    },
    {
      "cell_type": "code",
      "metadata": {
        "id": "4mg2G2PX0-A6",
        "colab_type": "code",
        "colab": {}
      },
      "source": [
        "import os\n",
        "from pathlib import Path\n",
        "li = Path('Git/')\n",
        "for i in li.iterdir():\n",
        "  print(i.name)"
      ],
      "execution_count": 0,
      "outputs": []
    },
    {
      "cell_type": "code",
      "metadata": {
        "id": "yr2-URpD4DZH",
        "colab_type": "code",
        "colab": {}
      },
      "source": [
        ""
      ],
      "execution_count": 0,
      "outputs": []
    },
    {
      "cell_type": "code",
      "metadata": {
        "id": "pxapTteR0-D0",
        "colab_type": "code",
        "colab": {}
      },
      "source": [
        ""
      ],
      "execution_count": 0,
      "outputs": []
    }
  ]
}