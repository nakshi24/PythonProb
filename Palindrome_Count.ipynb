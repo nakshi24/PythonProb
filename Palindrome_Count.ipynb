{
  "nbformat": 4,
  "nbformat_minor": 0,
  "metadata": {
    "colab": {
      "name": "Palindrome Count.ipynb",
      "version": "0.3.2",
      "provenance": [],
      "include_colab_link": true
    },
    "kernelspec": {
      "name": "python3",
      "display_name": "Python 3"
    }
  },
  "cells": [
    {
      "cell_type": "markdown",
      "metadata": {
        "id": "view-in-github",
        "colab_type": "text"
      },
      "source": [
        "<a href=\"https://colab.research.google.com/github/nakshi24/PythonProb/blob/master/Palindrome_Count.ipynb\" target=\"_parent\"><img src=\"https://colab.research.google.com/assets/colab-badge.svg\" alt=\"Open In Colab\"/></a>"
      ]
    },
    {
      "cell_type": "markdown",
      "metadata": {
        "id": "lYcrP9HfRbTm",
        "colab_type": "text"
      },
      "source": [
        "2. Write a python program to print the Palindrome count between two limits"
      ]
    },
    {
      "cell_type": "code",
      "metadata": {
        "id": "Sg_04rm_RndG",
        "colab_type": "code",
        "colab": {
          "base_uri": "https://localhost:8080/",
          "height": 34
        },
        "outputId": "59211093-bc8e-4f11-d757-f78e594e3907"
      },
      "source": [
        "def rev(n):\n",
        "  x = n\n",
        "  p = 0\n",
        "  while n!=0:\n",
        "    r = n%10\n",
        "    p = p*10 + r\n",
        "    n = n//10\n",
        "  if x == p:\n",
        "    return True\n",
        "  else:\n",
        "    return False\n",
        "\n",
        "def countPal(lb,ub):\n",
        "  c = 0\n",
        "  for i in range(lb,ub+1):\n",
        "    if rev(i) == True:\n",
        "      c = c + 1\n",
        "  return c\n",
        "\n",
        "print(countPal(11,100))\n",
        "  \n",
        "\n"
      ],
      "execution_count": 4,
      "outputs": [
        {
          "output_type": "stream",
          "text": [
            "9\n"
          ],
          "name": "stdout"
        }
      ]
    }
  ]
}