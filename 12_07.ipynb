{
  "nbformat": 4,
  "nbformat_minor": 0,
  "metadata": {
    "colab": {
      "name": "12/07.ipynb",
      "version": "0.3.2",
      "provenance": [],
      "include_colab_link": true
    },
    "kernelspec": {
      "name": "python3",
      "display_name": "Python 3"
    }
  },
  "cells": [
    {
      "cell_type": "markdown",
      "metadata": {
        "id": "view-in-github",
        "colab_type": "text"
      },
      "source": [
        "<a href=\"https://colab.research.google.com/github/nakshi24/PythonProb/blob/master/12_07.ipynb\" target=\"_parent\"><img src=\"https://colab.research.google.com/assets/colab-badge.svg\" alt=\"Open In Colab\"/></a>"
      ]
    },
    {
      "cell_type": "code",
      "metadata": {
        "id": "hKcYvWMvPjMO",
        "colab_type": "code",
        "outputId": "7991d5ac-dbdf-47d3-cb13-736c73979d8f",
        "colab": {
          "base_uri": "https://localhost:8080/",
          "height": 51
        }
      },
      "source": [
        "#Function to check 2 digit numbers matching\n",
        "import re\n",
        "def twodig(n):\n",
        "  pattern = '^[0-9]{2}$'\n",
        "  n = str(n)\n",
        "  if re.match(pattern,n):\n",
        "    return True\n",
        "  return False\n",
        "print(twodig(12))\n",
        "print(twodig(897))\n"
      ],
      "execution_count": 0,
      "outputs": [
        {
          "output_type": "stream",
          "text": [
            "True\n",
            "False\n"
          ],
          "name": "stdout"
        }
      ]
    },
    {
      "cell_type": "code",
      "metadata": {
        "id": "aF2FIohEWity",
        "colab_type": "code",
        "outputId": "46fe49a0-9b8e-4380-9547-916e05158e35",
        "colab": {
          "base_uri": "https://localhost:8080/",
          "height": 51
        }
      },
      "source": [
        "#Function to test username having 8 charcters, uppercase and lowercase\n",
        "def testUsername(s):\n",
        "  pattern = '^[a-zA-Z]{8}$'\n",
        "  if re.match(pattern,s):\n",
        "    return True\n",
        "  return False\n",
        "print(testUsername('GitamHYD'))\n",
        "print(testUsername('Gitam5647'))"
      ],
      "execution_count": 0,
      "outputs": [
        {
          "output_type": "stream",
          "text": [
            "True\n",
            "False\n"
          ],
          "name": "stdout"
        }
      ]
    },
    {
      "cell_type": "code",
      "metadata": {
        "id": "Sh7h_DhaWi1z",
        "colab_type": "code",
        "outputId": "a7b7486a-3db4-44c2-c7dd-5b2d9f402a59",
        "colab": {
          "base_uri": "https://localhost:8080/",
          "height": 51
        }
      },
      "source": [
        "#Regular expression to validate Indian mobile number\n",
        "def testNum(n):\n",
        "  pattern = '^[+][9][1][6-9][0-9]{9}$'\n",
        "  if re.match(pattern, n):\n",
        "    return True\n",
        "  return False\n",
        "print(testNum('+919502250020'))\n",
        "print(testNum('678'))"
      ],
      "execution_count": 0,
      "outputs": [
        {
          "output_type": "stream",
          "text": [
            "True\n",
            "False\n"
          ],
          "name": "stdout"
        }
      ]
    },
    {
      "cell_type": "code",
      "metadata": {
        "id": "j9QQGc31Wi5u",
        "colab_type": "code",
        "colab": {}
      },
      "source": [
        "#Regular expression to validate email ID\n",
        "def testEmail(n):\n",
        "  pattern = '^[a-zA-Z0-9][@]$'\n",
        "  if re.match(pattern,n):\n",
        "    return True\n",
        "  return False\n"
      ],
      "execution_count": 0,
      "outputs": []
    },
    {
      "cell_type": "code",
      "metadata": {
        "id": "xu_QwGsLWi9V",
        "colab_type": "code",
        "outputId": "7b42f059-bc12-43f0-d162-9cb837266b37",
        "colab": {
          "base_uri": "https://localhost:8080/",
          "height": 34
        }
      },
      "source": [
        "#Regular expression to validate roll number\n",
        "def testRoll(n):\n",
        "  pattern = '^[1][5][2][1][A-Z][0][0-9]{3}$'\n",
        "  if re.match(pattern,n):\n",
        "    return True\n",
        "  return False\n",
        "print(testRoll('1521A0244'))\n",
        "  \n",
        "\n"
      ],
      "execution_count": 0,
      "outputs": [
        {
          "output_type": "stream",
          "text": [
            "True\n"
          ],
          "name": "stdout"
        }
      ]
    },
    {
      "cell_type": "code",
      "metadata": {
        "id": "VCdSX7WhkMBc",
        "colab_type": "code",
        "outputId": "e7f6b7c6-8531-42ca-f69d-7b8e7e3652b9",
        "colab": {
          "base_uri": "https://localhost:8080/",
          "height": 34
        }
      },
      "source": [
        "#Regular expression to validate password\n",
        "def testPw(n):\n",
        "  pattern = '^[a-zA-Z0-9!@#$%^&*()_|<>]{6,14}$'\n",
        "  if re.match(pattern,n):\n",
        "    return True\n",
        "  return False\n",
        "print(testPw('123abc'))\n"
      ],
      "execution_count": 0,
      "outputs": [
        {
          "output_type": "stream",
          "text": [
            "True\n"
          ],
          "name": "stdout"
        }
      ]
    },
    {
      "cell_type": "code",
      "metadata": {
        "id": "S3BdGnJgWjAB",
        "colab_type": "code",
        "outputId": "d3625b19-8c96-4711-8dce-2b53c39fed58",
        "colab": {
          "base_uri": "https://localhost:8080/",
          "height": 34
        }
      },
      "source": [
        "#Regular expression to validate date and time\n",
        "import re\n",
        "def dt(n):\n",
        "  pattern = '[a-zA-Z0-9-:_/]{4,10}'\n",
        "  n = str(n)\n",
        "  if re.match(pattern,n):\n",
        "    return True\n",
        "  return False\n",
        "print(dt('14/9'))"
      ],
      "execution_count": 0,
      "outputs": [
        {
          "output_type": "stream",
          "text": [
            "True\n"
          ],
          "name": "stdout"
        }
      ]
    },
    {
      "cell_type": "code",
      "metadata": {
        "id": "p9583WvbWjC4",
        "colab_type": "code",
        "outputId": "9de79e1a-c61e-4b57-dfc8-cc9eb8b25c02",
        "colab": {
          "base_uri": "https://localhost:8080/",
          "height": 34
        }
      },
      "source": [
        "#Regular expression to validate email ID\n",
        "import re\n",
        "def email(n):\n",
        "  pattern = '[0-9a-zA-Z!@#_]{5,55}'\n",
        "  n = str(n)\n",
        "  if re.match(pattern,n):\n",
        "    return True\n",
        "  return False\n",
        "print(email('meenakshi.poruri@gmail.com'))\n",
        "  "
      ],
      "execution_count": 0,
      "outputs": [
        {
          "output_type": "stream",
          "text": [
            "True\n"
          ],
          "name": "stdout"
        }
      ]
    },
    {
      "cell_type": "code",
      "metadata": {
        "id": "y1u0QBpE1ZIY",
        "colab_type": "code",
        "outputId": "5182ddd6-1631-417b-d49e-4c67c355375d",
        "colab": {
          "base_uri": "https://localhost:8080/",
          "height": 34
        }
      },
      "source": [
        "str1 = 'Python exercises'\n",
        "print(str1.rstrip())"
      ],
      "execution_count": 0,
      "outputs": [
        {
          "output_type": "stream",
          "text": [
            "Python exercises\n"
          ],
          "name": "stdout"
        }
      ]
    },
    {
      "cell_type": "code",
      "metadata": {
        "id": "LYqN7dhI1ZPQ",
        "colab_type": "code",
        "colab": {}
      },
      "source": [
        ""
      ],
      "execution_count": 0,
      "outputs": []
    },
    {
      "cell_type": "code",
      "metadata": {
        "id": "FWjBMhTt1ZVI",
        "colab_type": "code",
        "colab": {}
      },
      "source": [
        ""
      ],
      "execution_count": 0,
      "outputs": []
    }
  ]
}