{
  "nbformat": 4,
  "nbformat_minor": 0,
  "metadata": {
    "colab": {
      "name": "Assignment 3.ipynb",
      "version": "0.3.2",
      "provenance": [],
      "collapsed_sections": [],
      "include_colab_link": true
    },
    "kernelspec": {
      "name": "python3",
      "display_name": "Python 3"
    }
  },
  "cells": [
    {
      "cell_type": "markdown",
      "metadata": {
        "id": "view-in-github",
        "colab_type": "text"
      },
      "source": [
        "<a href=\"https://colab.research.google.com/github/nakshi24/PythonProb/blob/master/Assignment_3.ipynb\" target=\"_parent\"><img src=\"https://colab.research.google.com/assets/colab-badge.svg\" alt=\"Open In Colab\"/></a>"
      ]
    },
    {
      "cell_type": "code",
      "metadata": {
        "id": "U4ItFgtBbNcl",
        "colab_type": "code",
        "outputId": "4473076d-eafe-4eb7-9ea1-da4d9b9cd4cd",
        "colab": {
          "base_uri": "https://localhost:8080/",
          "height": 34
        }
      },
      "source": [
        "def ListToNum(l):\n",
        "  num = 0\n",
        "  j=len(l)-1\n",
        "  for i in range(0,len(l)):\n",
        "    num=l[i]*(10**j) + num\n",
        "    j=j-1\n",
        "  return num\n",
        "l = [1,4,5,6,9]\n",
        "ListToNum(l)\n",
        "    "
      ],
      "execution_count": 0,
      "outputs": [
        {
          "output_type": "execute_result",
          "data": {
            "text/plain": [
              "14569"
            ]
          },
          "metadata": {
            "tags": []
          },
          "execution_count": 10
        }
      ]
    },
    {
      "cell_type": "code",
      "metadata": {
        "id": "2Er0wSebbXF6",
        "colab_type": "code",
        "outputId": "18a6f21b-37c2-4e37-b881-fd0b40221f99",
        "colab": {
          "base_uri": "https://localhost:8080/",
          "height": 68
        }
      },
      "source": [
        "def EvenNum(li):\n",
        "  \n",
        "  for i in range(0,len(li)):\n",
        "    if li[i]%2==0:\n",
        "      print(li[i])\n",
        "  return \n",
        "l = [1,2,3,4,5,6]\n",
        "EvenNum(l)"
      ],
      "execution_count": 0,
      "outputs": [
        {
          "output_type": "stream",
          "text": [
            "2\n",
            "4\n",
            "6\n"
          ],
          "name": "stdout"
        }
      ]
    },
    {
      "cell_type": "code",
      "metadata": {
        "id": "gHi4BzcicP6A",
        "colab_type": "code",
        "outputId": "f2e802a8-66c2-4bd8-c91b-2525b69d054e",
        "colab": {
          "base_uri": "https://localhost:8080/",
          "height": 34
        }
      },
      "source": [
        "def EvenNumSq(li):\n",
        "  \n",
        "  for i in range(0,len(li)):\n",
        "    if li[i]%2==0:\n",
        "      li[i] = li[i]**2\n",
        "  return li\n",
        "l = [1,2,3,4,5,6]\n",
        "EvenNumSq(l)"
      ],
      "execution_count": 0,
      "outputs": [
        {
          "output_type": "execute_result",
          "data": {
            "text/plain": [
              "[1, 4, 3, 16, 5, 36]"
            ]
          },
          "metadata": {
            "tags": []
          },
          "execution_count": 3
        }
      ]
    },
    {
      "cell_type": "code",
      "metadata": {
        "id": "JqupzaXrckTo",
        "colab_type": "code",
        "outputId": "1dec3756-c029-46ce-c5c5-88966e6c5569",
        "colab": {
          "base_uri": "https://localhost:8080/",
          "height": 102
        }
      },
      "source": [
        "def NumSum(li):\n",
        "  \n",
        "  for i in range(0,len(li)):\n",
        "      if i==0 or i == len(li)-1:\n",
        "        print(li[i])\n",
        "      else:\n",
        "        print(li[i-1]+li[i])\n",
        "        \n",
        "  return \n",
        "l = [15,19,12,16,4]\n",
        "NumSum(l)"
      ],
      "execution_count": 0,
      "outputs": [
        {
          "output_type": "stream",
          "text": [
            "15\n",
            "34\n",
            "31\n",
            "28\n",
            "4\n"
          ],
          "name": "stdout"
        }
      ]
    }
  ]
}