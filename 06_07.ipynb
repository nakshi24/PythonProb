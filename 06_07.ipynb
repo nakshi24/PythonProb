{
  "nbformat": 4,
  "nbformat_minor": 0,
  "metadata": {
    "colab": {
      "name": "06/07",
      "version": "0.3.2",
      "provenance": [],
      "collapsed_sections": [],
      "include_colab_link": true
    },
    "kernelspec": {
      "name": "python3",
      "display_name": "Python 3"
    }
  },
  "cells": [
    {
      "cell_type": "markdown",
      "metadata": {
        "id": "view-in-github",
        "colab_type": "text"
      },
      "source": [
        "<a href=\"https://colab.research.google.com/github/nakshi24/PythonProb/blob/master/06_07.ipynb\" target=\"_parent\"><img src=\"https://colab.research.google.com/assets/colab-badge.svg\" alt=\"Open In Colab\"/></a>"
      ]
    },
    {
      "cell_type": "markdown",
      "metadata": {
        "id": "MjncNDt9dwll",
        "colab_type": "text"
      },
      "source": [
        "ss"
      ]
    },
    {
      "cell_type": "code",
      "metadata": {
        "id": "QXnh8lgNeoCg",
        "colab_type": "code",
        "colab": {}
      },
      "source": [
        "# Example - while\n",
        "x = 0\n",
        "while x<5 :\n",
        "  print(\"Gitam\")\n",
        "  x = x + 1\n"
      ],
      "execution_count": 0,
      "outputs": []
    },
    {
      "cell_type": "markdown",
      "metadata": {
        "id": "rzlVK5Qz_WdY",
        "colab_type": "text"
      },
      "source": [
        "[Image](https://drive.google.com/open?id=1CjZ1J2zoFFcBrEtZXhH2YCjND2nj7fXK)"
      ]
    },
    {
      "cell_type": "code",
      "metadata": {
        "id": "Xlx2kVcYguYA",
        "colab_type": "code",
        "colab": {}
      },
      "source": [
        "# printing n natural numbers\n",
        "n = int(input(\"Enter no. of terms - \"))\n",
        "i = 1\n",
        "while i<=n :\n",
        "  print(i, end = \" \")\n",
        "  i = i + 1\n"
      ],
      "execution_count": 0,
      "outputs": []
    },
    {
      "cell_type": "markdown",
      "metadata": {
        "id": "ceJ4vQEbAzpG",
        "colab_type": "text"
      },
      "source": [
        "[Image](https://drive.google.com/open?id=11Q8cKvrAjbQJyslGVqlW1UvQ7nrFoNUB)"
      ]
    },
    {
      "cell_type": "code",
      "metadata": {
        "id": "SHJczOmahMkH",
        "colab_type": "code",
        "colab": {}
      },
      "source": [
        "# sum of even no. till n\n",
        "n = int(input(\"Enter no. of terms - \"))\n",
        "i = 1\n",
        "sum = 0\n",
        "while i <= n :\n",
        "  if i%2==0 :\n",
        "    sum = sum + i\n",
        "  i = i + 1\n",
        "print(\"Sum = \", sum)\n"
      ],
      "execution_count": 0,
      "outputs": []
    },
    {
      "cell_type": "markdown",
      "metadata": {
        "id": "70EAMfuYBHn2",
        "colab_type": "text"
      },
      "source": [
        "[Image](https://drive.google.com/open?id=1RNfxwTsAkFx-3ubdLYxWHTiWIfo7FMFd)"
      ]
    },
    {
      "cell_type": "code",
      "metadata": {
        "id": "pvJpOpxQkZyq",
        "colab_type": "code",
        "colab": {}
      },
      "source": [
        "# print digits of given number in reverse order\n",
        "n = int(input(\"Enter a number - \"))\n",
        "r = 0\n",
        "while n!=0 :\n",
        "  r = n % 10\n",
        "  n = n // 10\n",
        "  print(r, end = \" \")\n"
      ],
      "execution_count": 0,
      "outputs": []
    },
    {
      "cell_type": "markdown",
      "metadata": {
        "id": "KAc7pil8IKdk",
        "colab_type": "text"
      },
      "source": [
        "[Image](https://drive.google.com/open?id=1pU6jWGiC9flg9rwHJVnv9yFrS9Xxn08m)"
      ]
    },
    {
      "cell_type": "markdown",
      "metadata": {
        "id": "bhLI31YCrWZO",
        "colab_type": "text"
      },
      "source": [
        "## Functional Programming\n",
        "- Simple \n",
        "- Easy to read\n",
        "- Lengthy program divides into sub programs\n",
        "\n",
        "\n",
        "while *Syntax*\n",
        "\n",
        "  def nameoftheFunction(parameters) :\n",
        "  \n",
        "      statements\n",
        "      return\n",
        "      \n",
        " \n",
        "for *syntax*\n",
        "\n",
        "  ex :- for x in range(1,n+1) : ( n+1 required, range function will not include upper range )\n",
        "  \n",
        "            print(x)\n",
        "            \n",
        "            "
      ]
    },
    {
      "cell_type": "code",
      "metadata": {
        "id": "8mmlrpjx3m4y",
        "colab_type": "code",
        "colab": {}
      },
      "source": [
        "def addEvenDigits(n) :\n",
        "  sum = 0\n",
        "  while n != 0 :\n",
        "    r = n % 10\n",
        "    if r % 2 == 0:\n",
        "      sum = sum + r\n",
        "    n = n // 10\n",
        "  print(\"Sum = \", sum)\n",
        "  return\n",
        "addEvenDigits(1234)\n"
      ],
      "execution_count": 0,
      "outputs": []
    },
    {
      "cell_type": "markdown",
      "metadata": {
        "id": "OzNrHyQYIzhY",
        "colab_type": "text"
      },
      "source": [
        "[Image](https://drive.google.com/open?id=1G_M5TPkX0dpbd3XK-vzSOvbyd9fE2ovh)"
      ]
    },
    {
      "cell_type": "code",
      "metadata": {
        "id": "P9dW333i4eZR",
        "colab_type": "code",
        "colab": {}
      },
      "source": [
        "def addEvenDigits(n) :\n",
        "  sum = 0\n",
        "  while n != 0 :\n",
        "    r = n % 10\n",
        "    if r % 2 == 0:\n",
        "      sum = sum + r\n",
        "    n = n // 10\n",
        "  return sum\n",
        "n = int(input(\"Enter a number - \"))\n",
        "sum = addEvenDigits(n)\n",
        "print(\"Sum = \", sum)\n"
      ],
      "execution_count": 0,
      "outputs": []
    },
    {
      "cell_type": "code",
      "metadata": {
        "id": "6pxmlUQ_70Cr",
        "colab_type": "code",
        "colab": {}
      },
      "source": [
        "# Print large digit in given number\n",
        "def printlarge(n) :\n",
        "  large = 0\n",
        "  while n != 0 :\n",
        "    r = n % 10\n",
        "    if large<r :\n",
        "      large = r\n",
        "    n = n // 10\n",
        "  return large\n",
        "printlarge(19528)\n"
      ],
      "execution_count": 0,
      "outputs": []
    },
    {
      "cell_type": "markdown",
      "metadata": {
        "id": "rx8pYlB1JWLG",
        "colab_type": "text"
      },
      "source": [
        "[Image](https://drive.google.com/open?id=1zRnPZIBVlx_Yl37TIirWr8Q0uKgnmhRj)"
      ]
    },
    {
      "cell_type": "code",
      "metadata": {
        "id": "hWvBUmq58bg7",
        "colab_type": "code",
        "colab": {}
      },
      "source": [
        "# Reverse of given number \n",
        "def reverse(n) :\n",
        "  a = 0\n",
        "  while n != 0 :\n",
        "    r = n % 10\n",
        "    a = a * 10 + r\n",
        "    n = n // 10\n",
        "  return a\n",
        "x = int(input(\"Enter a number - \"))\n",
        "print(\"Reverse - \", reverse(x))\n"
      ],
      "execution_count": 0,
      "outputs": []
    },
    {
      "cell_type": "markdown",
      "metadata": {
        "id": "52JlVurjJr5t",
        "colab_type": "text"
      },
      "source": [
        "[Image](https://drive.google.com/open?id=1ZNPdz5Mrg1IqWI18MQiFlqg2HY_3hpm0)"
      ]
    },
    {
      "cell_type": "code",
      "metadata": {
        "id": "HjOPU79J9r-H",
        "colab_type": "code",
        "colab": {}
      },
      "source": [
        "# Prime or not\n",
        "def prime(n) :\n",
        "  i = 2\n",
        "  cnt = 0\n",
        "  while i!=n :\n",
        "    if n % i == 0 :\n",
        "      print(\"Not a Prime number\")\n",
        "      cnt = 1\n",
        "      break\n",
        "    i = i + 1\n",
        "  if cnt == 0 :\n",
        "    print(\"It is a Prime number\")\n",
        "  return\n",
        "x = int(input(\"Enter a number - \"))\n",
        "prime(x)\n"
      ],
      "execution_count": 0,
      "outputs": []
    },
    {
      "cell_type": "markdown",
      "metadata": {
        "id": "jZYKZm0WKBdS",
        "colab_type": "text"
      },
      "source": [
        "[Image](https://drive.google.com/open?id=1TXLWCmFKmecR7dGUIdnhU9tjxBv3Reum)"
      ]
    },
    {
      "cell_type": "code",
      "metadata": {
        "id": "OavY6ZSmBbja",
        "colab_type": "code",
        "colab": {}
      },
      "source": [
        "# Palindrome or not\n",
        "def palindrome(n) :\n",
        "  rev = 0\n",
        "  buffer = n\n",
        "  while n != 0 :\n",
        "    r = n % 10\n",
        "    rev = rev * 10 + r\n",
        "    n = n // 10\n",
        "  if buffer == rev :\n",
        "    return \"Yes\"\n",
        "  else :\n",
        "    return \"No\"\n",
        "print(palindrome(123))\n",
        "print(palindrome(121))"
      ],
      "execution_count": 0,
      "outputs": []
    },
    {
      "cell_type": "markdown",
      "metadata": {
        "id": "KRvJm_MOM7z_",
        "colab_type": "text"
      },
      "source": [
        ""
      ]
    },
    {
      "cell_type": "code",
      "metadata": {
        "id": "7TMI9gVZCHUU",
        "colab_type": "code",
        "colab": {}
      },
      "source": [
        "# FOR LOOP\n",
        "n = 10\n",
        "for x in range(1,n+1) :\n",
        "  print(x, end = \" \")\n"
      ],
      "execution_count": 0,
      "outputs": []
    },
    {
      "cell_type": "code",
      "metadata": {
        "id": "Q63umqBeEoOc",
        "colab_type": "code",
        "colab": {}
      },
      "source": [
        "# Printing b/w two ranges\n",
        "def printNo(a,b) :\n",
        "  for x in range(a,b+1) :\n",
        "    print(x,end=\" \")\n",
        "  return \n",
        "a = int(input(\"Enter lower range - \"))\n",
        "b = int(input(\"Enter upper range - \"))\n",
        "printNo(a,b)\n"
      ],
      "execution_count": 0,
      "outputs": []
    },
    {
      "cell_type": "code",
      "metadata": {
        "id": "HDLF8bYWGA2g",
        "colab_type": "code",
        "colab": {}
      },
      "source": [
        "# Printing alternate numbers in given range \n",
        "def AltNo(a,b,x) :\n",
        "  for x in range(a,b+1,x) :\n",
        "    print(x,end=\" \")\n",
        "  return \n",
        "a = int(input(\"Enter lower range - \"))\n",
        "b = int(input(\"Enter upper range - \"))\n",
        "x = int(input(\"Enter gap needed b/w no.s - \"))\n",
        "AltNo(a,b,x)"
      ],
      "execution_count": 0,
      "outputs": []
    },
    {
      "cell_type": "markdown",
      "metadata": {
        "id": "mwh_fZNWMjOz",
        "colab_type": "text"
      },
      "source": [
        "[Image](https://drive.google.com/open?id=1Uej0z8fpiVyu_45ExeQS6crF6Mo15fxy)"
      ]
    },
    {
      "cell_type": "code",
      "metadata": {
        "id": "CRdT63V3HVzS",
        "colab_type": "code",
        "colab": {}
      },
      "source": [
        "# Printing b/w two ranges in reverse order\n",
        "def reverseNo(a,b) :\n",
        "  for x in range(b,a-1,-1) :\n",
        "    print(x,end=\" \")\n",
        "  return \n",
        "a = int(input(\"Enter lower range - \"))\n",
        "b = int(input(\"Enter upper range - \"))\n",
        "print(\"Reverse order - \")\n",
        "reverseNo(a,b)"
      ],
      "execution_count": 0,
      "outputs": []
    },
    {
      "cell_type": "markdown",
      "metadata": {
        "id": "1jVQmPhdIr_k",
        "colab_type": "text"
      },
      "source": [
        "[Image](https://drive.google.com/open?id=1LoN5KFADf9Exj3c_sZCAUeTPt7qoW3MV)"
      ]
    },
    {
      "cell_type": "code",
      "metadata": {
        "id": "Q44PNHGZKCja",
        "colab_type": "code",
        "colab": {}
      },
      "source": [
        "<img src = imagename/>"
      ],
      "execution_count": 0,
      "outputs": []
    }
  ]
}