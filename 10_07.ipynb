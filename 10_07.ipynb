{
  "nbformat": 4,
  "nbformat_minor": 0,
  "metadata": {
    "colab": {
      "name": "10/07.ipynb",
      "version": "0.3.2",
      "provenance": [],
      "collapsed_sections": [],
      "include_colab_link": true
    },
    "kernelspec": {
      "name": "python3",
      "display_name": "Python 3"
    }
  },
  "cells": [
    {
      "cell_type": "markdown",
      "metadata": {
        "id": "view-in-github",
        "colab_type": "text"
      },
      "source": [
        "<a href=\"https://colab.research.google.com/github/nakshi24/PythonProb/blob/master/10_07.ipynb\" target=\"_parent\"><img src=\"https://colab.research.google.com/assets/colab-badge.svg\" alt=\"Open In Colab\"/></a>"
      ]
    },
    {
      "cell_type": "code",
      "metadata": {
        "id": "ipB5EW3Y9YcX",
        "colab_type": "code",
        "outputId": "d9a9dd11-357a-4e51-bd79-f8a61d609715",
        "colab": {
          "base_uri": "https://localhost:8080/",
          "height": 34
        }
      },
      "source": [
        "d1 = {\"Name\":\"XYZ\", \"Email ID\":\"ABC\"}\n",
        "print(d1)"
      ],
      "execution_count": 0,
      "outputs": [
        {
          "output_type": "stream",
          "text": [
            "{'Name': 'XYZ', 'Email ID': 'ABC'}\n"
          ],
          "name": "stdout"
        }
      ]
    },
    {
      "cell_type": "code",
      "metadata": {
        "id": "A0B56dIE_nRh",
        "colab_type": "code",
        "outputId": "53d4ef36-6e36-4cf1-d7e3-1ea3b83b103b",
        "colab": {
          "base_uri": "https://localhost:8080/",
          "height": 34
        }
      },
      "source": [
        "d1[\"Name\"]"
      ],
      "execution_count": 0,
      "outputs": [
        {
          "output_type": "execute_result",
          "data": {
            "text/plain": [
              "'XYZ'"
            ]
          },
          "metadata": {
            "tags": []
          },
          "execution_count": 3
        }
      ]
    },
    {
      "cell_type": "code",
      "metadata": {
        "id": "1z62VMOI_nXn",
        "colab_type": "code",
        "outputId": "27ca6c86-efde-4224-8366-bc237d3a7bc8",
        "colab": {
          "base_uri": "https://localhost:8080/",
          "height": 34
        }
      },
      "source": [
        "d1[\"Email ID\"]"
      ],
      "execution_count": 0,
      "outputs": [
        {
          "output_type": "execute_result",
          "data": {
            "text/plain": [
              "'ABC'"
            ]
          },
          "metadata": {
            "tags": []
          },
          "execution_count": 4
        }
      ]
    },
    {
      "cell_type": "code",
      "metadata": {
        "id": "06LJIcjB_nhd",
        "colab_type": "code",
        "outputId": "57a766b8-18e7-4699-81c9-4dfad0124aec",
        "colab": {
          "base_uri": "https://localhost:8080/",
          "height": 34
        }
      },
      "source": [
        "d1"
      ],
      "execution_count": 0,
      "outputs": [
        {
          "output_type": "execute_result",
          "data": {
            "text/plain": [
              "{'Email ID': 'ABC', 'Name': 'XYZ'}"
            ]
          },
          "metadata": {
            "tags": []
          },
          "execution_count": 5
        }
      ]
    },
    {
      "cell_type": "code",
      "metadata": {
        "id": "hiZeHthtBh05",
        "colab_type": "code",
        "outputId": "ef40d73c-4043-44b9-acfc-f719f0361bfd",
        "colab": {
          "base_uri": "https://localhost:8080/",
          "height": 34
        }
      },
      "source": [
        "d1\n",
        "\n"
      ],
      "execution_count": 0,
      "outputs": [
        {
          "output_type": "execute_result",
          "data": {
            "text/plain": [
              "{'Name': 'XYZ'}"
            ]
          },
          "metadata": {
            "tags": []
          },
          "execution_count": 10
        }
      ]
    },
    {
      "cell_type": "code",
      "metadata": {
        "id": "WyfO6ymBBh3O",
        "colab_type": "code",
        "outputId": "41d9efe1-9b77-4031-e4a3-0e882fe1b981",
        "colab": {
          "base_uri": "https://localhost:8080/",
          "height": 34
        }
      },
      "source": [
        "d1.keys()\n",
        "d1.items()\n",
        "d1.values()"
      ],
      "execution_count": 0,
      "outputs": [
        {
          "output_type": "execute_result",
          "data": {
            "text/plain": [
              "dict_values(['XYZ'])"
            ]
          },
          "metadata": {
            "tags": []
          },
          "execution_count": 13
        }
      ]
    },
    {
      "cell_type": "code",
      "metadata": {
        "id": "8POg_qYcBh52",
        "colab_type": "code",
        "outputId": "a17fad0d-c72d-4acf-c026-d2e5edf20d92",
        "colab": {
          "base_uri": "https://localhost:8080/",
          "height": 34
        }
      },
      "source": [
        "t1 = (1,2,3,4)\n",
        "t1\n",
        "type(t1)"
      ],
      "execution_count": 0,
      "outputs": [
        {
          "output_type": "execute_result",
          "data": {
            "text/plain": [
              "tuple"
            ]
          },
          "metadata": {
            "tags": []
          },
          "execution_count": 15
        }
      ]
    },
    {
      "cell_type": "code",
      "metadata": {
        "id": "bnnh4qf6Bh8J",
        "colab_type": "code",
        "outputId": "95498d02-c07f-459c-ec90-79850a4af8da",
        "colab": {
          "base_uri": "https://localhost:8080/",
          "height": 34
        }
      },
      "source": [
        "# Add contact\n",
        "contacts = {}\n",
        "def addContact(name,phone):\n",
        "  if name not in contacts:\n",
        "    contacts[name] = phone\n",
        "    print(\"Contact details have been added\")\n",
        "  else:\n",
        "    print(\"Contact details already exist\")\n",
        "  return\n",
        "addContact(\"XYZ\",\"123\")\n",
        "    "
      ],
      "execution_count": 0,
      "outputs": [
        {
          "output_type": "stream",
          "text": [
            "Contact details have been added\n"
          ],
          "name": "stdout"
        }
      ]
    },
    {
      "cell_type": "code",
      "metadata": {
        "id": "BvvjRiWQBh-l",
        "colab_type": "code",
        "outputId": "8027eeab-238f-4f1a-deba-07102da68c5b",
        "colab": {
          "base_uri": "https://localhost:8080/",
          "height": 51
        }
      },
      "source": [
        "# search contact\n",
        "def searchContact(name):\n",
        "  if name in contacts:\n",
        "    print(name, \" : \", contacts[name])\n",
        "  else:\n",
        "    print(\"%s doesn't exist\" % name)\n",
        "  return\n",
        "searchContact(\"XYZ\")\n",
        "searchContact(\"Megz\")"
      ],
      "execution_count": 0,
      "outputs": [
        {
          "output_type": "stream",
          "text": [
            "XYZ  :  123\n",
            "Megz doesn't exist\n"
          ],
          "name": "stdout"
        }
      ]
    },
    {
      "cell_type": "code",
      "metadata": {
        "id": "7EHPDbgNBiBW",
        "colab_type": "code",
        "outputId": "b107250a-e15e-4adb-f213-8183cc6aaf27",
        "colab": {
          "base_uri": "https://localhost:8080/",
          "height": 34
        }
      },
      "source": [
        "def importContact(newContacts):\n",
        " contacts.update(newContacts)\n",
        " print(len(newContacts.keys()), \"Contacts added successfully\")\n",
        " return\n",
        "newContacts = {'Megz':9502250020,'N':5552499136}\n",
        "importContact(newContacts)"
      ],
      "execution_count": 0,
      "outputs": [
        {
          "output_type": "stream",
          "text": [
            "2 Contacts added successfully\n"
          ],
          "name": "stdout"
        }
      ]
    },
    {
      "cell_type": "code",
      "metadata": {
        "id": "QzGAxW1jBiDt",
        "colab_type": "code",
        "outputId": "02280e71-21eb-4b85-8ae7-819d2e35c95f",
        "colab": {
          "base_uri": "https://localhost:8080/",
          "height": 34
        }
      },
      "source": [
        "def deleteContacts(name):\n",
        "  if name in contacts:\n",
        "    del contacts[name]\n",
        "    print(name,\"deleted successfully\")\n",
        "  else:\n",
        "    print(name,\"doesn't exist\")\n",
        "  return\n",
        "deleteContacts(\"Megz\")"
      ],
      "execution_count": 0,
      "outputs": [
        {
          "output_type": "stream",
          "text": [
            "Megz doesn't exist\n"
          ],
          "name": "stdout"
        }
      ]
    },
    {
      "cell_type": "code",
      "metadata": {
        "id": "9sKnlE5_BiGO",
        "colab_type": "code",
        "outputId": "9efd18fe-76d3-4f5f-a0c4-708b5427a27c",
        "colab": {
          "base_uri": "https://localhost:8080/",
          "height": 34
        }
      },
      "source": [
        "def updateContacts(name,phone):\n",
        "  if name in contacts:\n",
        "    contacts[name] = phone\n",
        "    print(name,\"updated successfully\")\n",
        "  else:\n",
        "    print(name,\"doesn't exist\")\n",
        "  return\n",
        "updateContacts(\"XYZ\",456)"
      ],
      "execution_count": 0,
      "outputs": [
        {
          "output_type": "stream",
          "text": [
            "XYZ updated successfully\n"
          ],
          "name": "stdout"
        }
      ]
    },
    {
      "cell_type": "code",
      "metadata": {
        "id": "q170xxsiBiIv",
        "colab_type": "code",
        "outputId": "2fc959f1-aa80-4ae5-d491-f97d37efe9d0",
        "colab": {
          "base_uri": "https://localhost:8080/",
          "height": 51
        }
      },
      "source": [
        "li = [\"Python\",\"Programming\"]\n",
        "print(\"%s %s\" % (li[0],li[1]))\n",
        "print(\"{0} {1}\".format(li[0],li[1]))"
      ],
      "execution_count": 0,
      "outputs": [
        {
          "output_type": "stream",
          "text": [
            "Python Programming\n",
            "Python Programming\n"
          ],
          "name": "stdout"
        }
      ]
    },
    {
      "cell_type": "code",
      "metadata": {
        "id": "3MoDl_6pRocN",
        "colab_type": "code",
        "outputId": "63700926-de92-4c7b-ee09-1557c339cd92",
        "colab": {
          "base_uri": "https://localhost:8080/",
          "height": 34
        }
      },
      "source": [
        "s1 = \"ahahhha\"\n",
        "s1.upper()"
      ],
      "execution_count": 0,
      "outputs": [
        {
          "output_type": "execute_result",
          "data": {
            "text/plain": [
              "'ahahhha'"
            ]
          },
          "metadata": {
            "tags": []
          },
          "execution_count": 28
        }
      ]
    },
    {
      "cell_type": "code",
      "metadata": {
        "id": "8kcbIrsZRoe1",
        "colab_type": "code",
        "outputId": "78e10677-065b-4200-afe9-d56d6ffb0b0c",
        "colab": {
          "base_uri": "https://localhost:8080/",
          "height": 85
        }
      },
      "source": [
        "s1=\"123\"\n",
        "s2=\"python\"\n",
        "s3=\"pt yo\"\n",
        "s4=\" \"\n",
        "print(s1.isnumeric())\n",
        "print(s2.isnumeric())\n",
        "print(s3.isspace())\n",
        "print(s4.isspace())"
      ],
      "execution_count": 0,
      "outputs": [
        {
          "output_type": "stream",
          "text": [
            "True\n",
            "False\n",
            "False\n",
            "True\n"
          ],
          "name": "stdout"
        }
      ]
    },
    {
      "cell_type": "code",
      "metadata": {
        "id": "D_7ASqKuBiLO",
        "colab_type": "code",
        "outputId": "bc5958d4-6adf-4afb-adc0-5b72e71375fc",
        "colab": {
          "base_uri": "https://localhost:8080/",
          "height": 34
        }
      },
      "source": [
        "s2=\"PYTHON\"\n",
        "# join() is used to go in between every letter\n",
        "\n",
        "print(\"aa\".join(s2))"
      ],
      "execution_count": 0,
      "outputs": [
        {
          "output_type": "stream",
          "text": [
            "PaaYaaTaaHaaOaaN\n"
          ],
          "name": "stdout"
        }
      ]
    },
    {
      "cell_type": "code",
      "metadata": {
        "id": "u5-Kip5OBiNw",
        "colab_type": "code",
        "outputId": "d01caafd-d031-4df2-871b-74b8393de8eb",
        "colab": {
          "base_uri": "https://localhost:8080/",
          "height": 51
        }
      },
      "source": [
        "li=['python','Programming','learn']\n",
        "print(\"\".join(li))\n",
        "print(\" \".join(li))"
      ],
      "execution_count": 0,
      "outputs": [
        {
          "output_type": "stream",
          "text": [
            "pythonProgramminglearn\n",
            "python Programming learn\n"
          ],
          "name": "stdout"
        }
      ]
    },
    {
      "cell_type": "code",
      "metadata": {
        "id": "ATXp1uI8vc1t",
        "colab_type": "code",
        "outputId": "a12e0b5d-884a-4b74-ed18-a0aabe49efc1",
        "colab": {
          "base_uri": "https://localhost:8080/",
          "height": 34
        }
      },
      "source": [
        "s1=\"Python programming easy to learn\"\n",
        "\n",
        "print(s1.replace(\"gra\",\"Application\"))"
      ],
      "execution_count": 0,
      "outputs": [
        {
          "output_type": "stream",
          "text": [
            "Python proApplicationmming easy to learn\n"
          ],
          "name": "stdout"
        }
      ]
    },
    {
      "cell_type": "code",
      "metadata": {
        "id": "cnR6b8qmv_6L",
        "colab_type": "code",
        "outputId": "b91c35a2-43a6-4092-eb66-191e23a9b8fb",
        "colab": {
          "base_uri": "https://localhost:8080/",
          "height": 34
        }
      },
      "source": [
        "import math\n",
        "math.floor(143.25)\n",
        "import fact"
      ],
      "execution_count": 0,
      "outputs": [
        {
          "output_type": "execute_result",
          "data": {
            "text/plain": [
              "143"
            ]
          },
          "metadata": {
            "tags": []
          },
          "execution_count": 52
        }
      ]
    },
    {
      "cell_type": "code",
      "metadata": {
        "id": "QEM6CxgMUt9J",
        "colab_type": "code",
        "outputId": "18177140-b610-4d13-c156-f6e1c40fb782",
        "colab": {
          "base_uri": "https://localhost:8080/",
          "height": 34
        }
      },
      "source": [
        "import random\n",
        "def randomNums(n,lb,ub):\n",
        "  for i in range(0,n):\n",
        "    print(random.randint(lb,ub),end = \" \")\n",
        "  return\n",
        "randomNums(3,1,100)"
      ],
      "execution_count": 0,
      "outputs": [
        {
          "output_type": "stream",
          "text": [
            "68 55 88 "
          ],
          "name": "stdout"
        }
      ]
    },
    {
      "cell_type": "code",
      "metadata": {
        "id": "wLRDRsrLVILl",
        "colab_type": "code",
        "colab": {}
      },
      "source": [
        "import random\n",
        "def Random(n):\n",
        "  for i in range(0,20):\n",
        "    l.append(random.randint(0,500))\n",
        "  return l\n",
        "def check(n):\n",
        "  \n",
        "    \n",
        "  \n"
      ],
      "execution_count": 0,
      "outputs": []
    }
  ]
}