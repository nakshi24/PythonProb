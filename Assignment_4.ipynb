{
  "nbformat": 4,
  "nbformat_minor": 0,
  "metadata": {
    "colab": {
      "name": "Assignment 4.ipynb",
      "version": "0.3.2",
      "provenance": [],
      "collapsed_sections": [],
      "include_colab_link": true
    },
    "kernelspec": {
      "name": "python3",
      "display_name": "Python 3"
    }
  },
  "cells": [
    {
      "cell_type": "markdown",
      "metadata": {
        "id": "view-in-github",
        "colab_type": "text"
      },
      "source": [
        "<a href=\"https://colab.research.google.com/github/nakshi24/PythonProb/blob/master/Assignment_4.ipynb\" target=\"_parent\"><img src=\"https://colab.research.google.com/assets/colab-badge.svg\" alt=\"Open In Colab\"/></a>"
      ]
    },
    {
      "cell_type": "code",
      "metadata": {
        "colab_type": "code",
        "id": "1DP9toBiW3ce",
        "outputId": "e25e116b-25cb-40f2-81b6-e30d434634e8",
        "colab": {
          "base_uri": "https://localhost:8080/",
          "height": 34
        }
      },
      "source": [
        "#The program must accept a string S as the input. The program print the longest word from the string S as the output.\n",
        "# If two or more longest words are of same length then consider the first one.\n",
        "  def longestWord(str):\n",
        "   list = []\n",
        "   list = str.split()\n",
        "   large = 0\n",
        "   j = 0\n",
        "   for i in range(0,len(list)):\n",
        "      if len(list[i]) > large:\n",
        "        large = len(list[i])\n",
        "        j = i\n",
        "   return list[j]\n",
        "  longestWord(\"Starry eyed\")    \n",
        "  "
      ],
      "execution_count": 0,
      "outputs": [
        {
          "output_type": "execute_result",
          "data": {
            "text/plain": [
              "'Starry'"
            ]
          },
          "metadata": {
            "tags": []
          },
          "execution_count": 17
        }
      ]
    },
    {
      "cell_type": "code",
      "metadata": {
        "id": "Rz0WNQDjWUIf",
        "colab_type": "code",
        "outputId": "c216de45-d81d-44fe-a608-780d12e7fd34",
        "colab": {
          "base_uri": "https://localhost:8080/",
          "height": 34
        }
      },
      "source": [
        "# Your program need to accept a string (alphanumeric) includes white spaces also. The program must print the output in the following way.\n",
        "def wordUpperCase(s):\n",
        "  spaceCnt = 0\n",
        "  for x in range(len(s)):\n",
        "    if ord(s[x]) == 32:\n",
        "      spaceCnt += 1\n",
        "    if spaceCnt == 1:\n",
        "      if ord(s[x])>=65 and ord(s[x])<=90:\n",
        "        print(s[x], end = \"\")\n",
        "      elif ord(s[x])>=97 and ord(s[x])<=122:\n",
        "         print(chr(ord(s[x])-32),end=\"\")\n",
        "    if spaceCnt == 2:\n",
        "        break\n",
        "  return\n",
        "wordUpperCase('Python Made Easy')\n"
      ],
      "execution_count": 0,
      "outputs": [
        {
          "output_type": "stream",
          "text": [
            "MADE"
          ],
          "name": "stdout"
        }
      ]
    },
    {
      "cell_type": "code",
      "metadata": {
        "id": "9AFwTr78ZQeL",
        "colab_type": "code",
        "outputId": "c65a1cc2-1a2b-4787-fc16-996c6d80772c",
        "colab": {
          "base_uri": "https://localhost:8080/",
          "height": 102
        }
      },
      "source": [
        "#This series is a mixture of 2 series \n",
        "#- all the odd terms in this series form a geometric series and all the even terms form another geometric series.\n",
        "# 2 1 4 2 6 3 8 4 10 5 12 6 14 7 16 8 18 9 20 10 22 11 24 12 26 ..........\n",
        "def series1(n):\n",
        "  em = 2\n",
        "  j = 1\n",
        "  k = 1\n",
        "  li = []\n",
        "  for i in range(1,n+1):\n",
        "    if i%2 != 0:\n",
        "      print(em*j)\n",
        "      j = j + 1\n",
        "    else:\n",
        "      print(k)\n",
        "      k = k+1\n",
        "  return \n",
        "series1(5)\n",
        "    \n"
      ],
      "execution_count": 0,
      "outputs": [
        {
          "output_type": "stream",
          "text": [
            "2\n",
            "1\n",
            "4\n",
            "2\n",
            "6\n"
          ],
          "name": "stdout"
        }
      ]
    },
    {
      "cell_type": "code",
      "metadata": {
        "id": "Pdi2JYAKatMg",
        "colab_type": "code",
        "outputId": "ec1f96cd-ed02-4b6b-ca4b-e51eb28a4e70",
        "colab": {
          "base_uri": "https://localhost:8080/",
          "height": 102
        }
      },
      "source": [
        "#The order of series must be 1, 1, 2, 3, 4, 9, 8, 27, 16, 81, 32, 243, 64, 729, 128, 2187, 256, 6561, 512, 19683, ... \n",
        "#This series is a mixture of 2 series - all the odd terms in this series form a geometric series and all the even terms form another geometric series.\n",
        "\n",
        "def series2(n):\n",
        "  k = 0\n",
        "  j = 0\n",
        "  e = 2\n",
        "  o = 3\n",
        "  for i in range(1,n+1):\n",
        "    if i%2==0:\n",
        "      print(e**j)\n",
        "      j = j + 1\n",
        "    else:\n",
        "      print(o**k)\n",
        "      k = k + 1\n",
        "  return\n",
        "series2(5)"
      ],
      "execution_count": 0,
      "outputs": [
        {
          "output_type": "stream",
          "text": [
            "1\n",
            "1\n",
            "3\n",
            "2\n",
            "9\n"
          ],
          "name": "stdout"
        }
      ]
    },
    {
      "cell_type": "code",
      "metadata": {
        "id": "GUM9_Mn3fTHD",
        "colab_type": "code",
        "outputId": "99519170-a5a8-4415-e253-e47365be40a2",
        "colab": {
          "base_uri": "https://localhost:8080/",
          "height": 85
        }
      },
      "source": [
        "#num to list, printing the same no. of stars as each digit\n",
        "def NumtoList(num):\n",
        "  l=[]\n",
        "  i = 0\n",
        "  while num!= 0:\n",
        "    r = num % 10\n",
        "    l.append(r)\n",
        "    num = num//10\n",
        "    i = i+1\n",
        "  l.reverse()\n",
        "  return l\n",
        "   \n",
        "n = int(input(\"Enter number\"))  \n",
        "list = NumtoList(n)\n",
        "for x in range(0,len(list)):\n",
        "  for i in range(0,list[x]):\n",
        "    print(\"*\",end=\"\")\n",
        "  print(\" \")\n",
        "\n"
      ],
      "execution_count": 0,
      "outputs": [
        {
          "output_type": "stream",
          "text": [
            "Enter number345\n",
            "*** \n",
            "**** \n",
            "***** \n"
          ],
          "name": "stdout"
        }
      ]
    },
    {
      "cell_type": "code",
      "metadata": {
        "id": "mQ6uDcLRguLr",
        "colab_type": "code",
        "outputId": "e67a9a2f-54c1-42a4-ec03-d8aadfd0fa71",
        "colab": {
          "base_uri": "https://localhost:8080/",
          "height": 102
        }
      },
      "source": [
        "#1,2,4,8,16\n",
        "def evenseries(n):\n",
        "  for i in range(0,n):\n",
        "    print(2**i)\n",
        "  return\n",
        "evenseries(5)"
      ],
      "execution_count": 0,
      "outputs": [
        {
          "output_type": "stream",
          "text": [
            "1\n",
            "2\n",
            "4\n",
            "8\n",
            "16\n"
          ],
          "name": "stdout"
        }
      ]
    },
    {
      "cell_type": "code",
      "metadata": {
        "id": "mKP-XCnvmaYO",
        "colab_type": "code",
        "outputId": "4d8e43b6-3fdb-4a9a-84b7-9bdf494c25ea",
        "colab": {
          "base_uri": "https://localhost:8080/",
          "height": 34
        }
      },
      "source": [
        "# 1! + 2! + 3! +....+n!\n",
        "def factsum(n):\n",
        "  sum = 0\n",
        "  for i in range(1,n+1):\n",
        "    fact(i)\n",
        "    sum = sum + fact(i)\n",
        "  print(sum)  \n",
        "  return\n",
        "def fact(n):\n",
        "  fact =1\n",
        "  for i in range(2,n+1):\n",
        "    fact=fact*i\n",
        "  return fact\n",
        "factsum(3)\n",
        "    "
      ],
      "execution_count": 0,
      "outputs": [
        {
          "output_type": "stream",
          "text": [
            "9\n"
          ],
          "name": "stdout"
        }
      ]
    },
    {
      "cell_type": "code",
      "metadata": {
        "id": "CkIg3AynsIVo",
        "colab_type": "code",
        "outputId": "26d169f2-c2ce-4455-a2b6-32f55b2ed17d",
        "colab": {
          "base_uri": "https://localhost:8080/",
          "height": 255
        }
      },
      "source": [
        "#3. The program must accept two string values S1 and S2. The program must print the pattern as shown in the \n",
        "#Example Input/Output sections.\n",
        "def combi(s1,s2):\n",
        "  l1 = len(s1)\n",
        "  l2 = len(s2)\n",
        "  if l2>l1:\n",
        "    l = l2\n",
        "    for x in range(l1,l+1):\n",
        "      s1.append(\"*\")\n",
        "  else:\n",
        "    l = l1\n",
        "    for y in range(l2,l+1):\n",
        "      s2.append(\"*\")\n",
        "  for i in range(0,l):\n",
        "    \n",
        "    print(s1[i],s2[i])\n",
        "    print(\" \")\n",
        "  return\n",
        "\n",
        "s1 = input(\"Enter string 1\")\n",
        "l1=[]\n",
        "for i in range(0,len(s1)):\n",
        "  l1.append(s1[i])\n",
        "s2 = input(\"Enter string 2\")\n",
        "l2=[]\n",
        "for i in range(0,len(s2)):\n",
        "  l2.append(s2[i])\n",
        "\n",
        "combi(l1,l2)"
      ],
      "execution_count": 0,
      "outputs": [
        {
          "output_type": "stream",
          "text": [
            "Enter string 1weird\n",
            "Enter string 2people\n",
            "w p\n",
            " \n",
            "e e\n",
            " \n",
            "i o\n",
            " \n",
            "r p\n",
            " \n",
            "d l\n",
            " \n",
            "* e\n",
            " \n"
          ],
          "name": "stdout"
        }
      ]
    },
    {
      "cell_type": "code",
      "metadata": {
        "id": "MjIkS4ZP22O0",
        "colab_type": "code",
        "outputId": "129ff85e-c9a4-488c-eb42-a99f23fa0b31",
        "colab": {
          "base_uri": "https://localhost:8080/",
          "height": 102
        }
      },
      "source": [
        "# 1, 3, 9, 27, 81, ...\n",
        "def threeseries(n):\n",
        "  for i in range(0,n):\n",
        "    print(3**i)\n",
        "  return\n",
        "threeseries(5)\n"
      ],
      "execution_count": 0,
      "outputs": [
        {
          "output_type": "stream",
          "text": [
            "1\n",
            "3\n",
            "9\n",
            "27\n",
            "81\n"
          ],
          "name": "stdout"
        }
      ]
    },
    {
      "cell_type": "code",
      "metadata": {
        "id": "zhfLebDQF2jt",
        "colab_type": "code",
        "outputId": "7dbf624f-9fa4-4900-c0a3-707e31f5a0f9",
        "colab": {
          "base_uri": "https://localhost:8080/",
          "height": 34
        }
      },
      "source": [
        "def thirteen(n):\n",
        "  j = 1\n",
        "  k = 2\n",
        "  print(k,end=\" \")\n",
        "  for i in range(1,n+1):\n",
        "    k = k+13 * j\n",
        "    print(k, end = \" \")\n",
        "    \n",
        "    j = j + 1\n",
        "  return\n",
        "thirteen(7)\n",
        "    \n"
      ],
      "execution_count": 0,
      "outputs": [
        {
          "output_type": "stream",
          "text": [
            "2 15 41 80 132 197 275 366 "
          ],
          "name": "stdout"
        }
      ]
    },
    {
      "cell_type": "code",
      "metadata": {
        "id": "PnFXIe_mF301",
        "colab_type": "code",
        "colab": {}
      },
      "source": [
        "#1 3 8 15 27 50 92 169 311\n",
        "\n"
      ],
      "execution_count": 0,
      "outputs": []
    },
    {
      "cell_type": "code",
      "metadata": {
        "id": "L0IWIw2eF39a",
        "colab_type": "code",
        "outputId": "c485cfc7-656f-43c0-e063-6ee3a021163b",
        "colab": {
          "base_uri": "https://localhost:8080/",
          "height": 34
        }
      },
      "source": [
        "#1,9,17,33,49,73,97\n",
        "def eight(n):\n",
        "  j = 1\n",
        "  k = 1\n",
        "  print(k,end=\" \")\n",
        "  for i in range(1,n+1):\n",
        "    k = k+8*j\n",
        "    print(k, end = \" \")\n",
        "    if i%2 == 0:\n",
        "     j = j + 1\n",
        "  return\n",
        "eight(7)"
      ],
      "execution_count": 0,
      "outputs": [
        {
          "output_type": "stream",
          "text": [
            "1 9 17 33 49 73 97 129 "
          ],
          "name": "stdout"
        }
      ]
    },
    {
      "cell_type": "code",
      "metadata": {
        "id": "tQRnbRNQF4F7",
        "colab_type": "code",
        "colab": {}
      },
      "source": [
        "#Your Program need to accept two strings and generate the output in merging of both strings.\n"
      ],
      "execution_count": 0,
      "outputs": []
    },
    {
      "cell_type": "code",
      "metadata": {
        "id": "GIionPwMYkIZ",
        "colab_type": "code",
        "outputId": "0f07839d-85b3-49ed-85b4-437bc971cf8f",
        "colab": {
          "base_uri": "https://localhost:8080/",
          "height": 34
        }
      },
      "source": [
        "#The program must accept an integer N as the input. The program must print the fibonacci series in the reverse order as the output.\n",
        "def fib(n):\n",
        "  \n",
        "  li = []\n",
        "  f0 = 0\n",
        "  f1 = 1\n",
        "  li.append(0)\n",
        "  li.append(1)\n",
        "  for i in range(0,n):\n",
        "    f2 = f1 + f0\n",
        "    li.append(f2)\n",
        "    f0 = f1\n",
        "    f1 = f2\n",
        "  return li\n",
        "l=fib(5)\n",
        "l.reverse()\n",
        "print(l)\n",
        "    \n",
        "  \n",
        " "
      ],
      "execution_count": 0,
      "outputs": [
        {
          "output_type": "stream",
          "text": [
            "[8, 5, 3, 2, 1, 1, 0]\n"
          ],
          "name": "stdout"
        }
      ]
    },
    {
      "cell_type": "code",
      "metadata": {
        "id": "fL0OitcsZavk",
        "colab_type": "code",
        "colab": {}
      },
      "source": [
        "#Your Program has to read one string as well as one character and you need to remove the all the occurance of the character."
      ],
      "execution_count": 0,
      "outputs": []
    }
  ]
}