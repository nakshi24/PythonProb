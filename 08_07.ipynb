{
  "nbformat": 4,
  "nbformat_minor": 0,
  "metadata": {
    "colab": {
      "name": "08/07.ipynb",
      "version": "0.3.2",
      "provenance": [],
      "include_colab_link": true
    },
    "kernelspec": {
      "name": "python3",
      "display_name": "Python 3"
    }
  },
  "cells": [
    {
      "cell_type": "markdown",
      "metadata": {
        "id": "view-in-github",
        "colab_type": "text"
      },
      "source": [
        "<a href=\"https://colab.research.google.com/github/nakshi24/PythonProb/blob/master/08_07.ipynb\" target=\"_parent\"><img src=\"https://colab.research.google.com/assets/colab-badge.svg\" alt=\"Open In Colab\"/></a>"
      ]
    },
    {
      "cell_type": "code",
      "metadata": {
        "id": "L0kAt2d503JM",
        "colab_type": "code",
        "outputId": "3de04c11-d578-4a3f-ef6a-996561dc85ec",
        "colab": {
          "base_uri": "https://localhost:8080/",
          "height": 34
        }
      },
      "source": [
        "def primecount(n):\n",
        "    cnt=0\n",
        "    for a in range(2,n+1):\n",
        "        k=0\n",
        "        for i in range (2,a//2+1):\n",
        "            if a%i==0:\n",
        "                k=k+1\n",
        "        if(k<=0):\n",
        "            cnt=cnt+1 \n",
        "    return cnt\n",
        "primecount(10)"
      ],
      "execution_count": 0,
      "outputs": [
        {
          "output_type": "execute_result",
          "data": {
            "text/plain": [
              "4"
            ]
          },
          "metadata": {
            "tags": []
          },
          "execution_count": 1
        }
      ]
    },
    {
      "cell_type": "code",
      "metadata": {
        "id": "BkxdMWzY1KLu",
        "colab_type": "code",
        "outputId": "82235756-7b08-4809-a99f-60d977000e19",
        "colab": {
          "base_uri": "https://localhost:8080/",
          "height": 34
        }
      },
      "source": [
        "def isprime(n):\n",
        "    flag=True\n",
        "    for i in range(2,n//2+1):\n",
        "        if n%i==0:\n",
        "            flag=False\n",
        "            return flag\n",
        "    return flag\n",
        "isprime(11)\n"
      ],
      "execution_count": 0,
      "outputs": [
        {
          "output_type": "execute_result",
          "data": {
            "text/plain": [
              "True"
            ]
          },
          "metadata": {
            "tags": []
          },
          "execution_count": 2
        }
      ]
    },
    {
      "cell_type": "code",
      "metadata": {
        "id": "nrTovWw_1WVL",
        "colab_type": "code",
        "outputId": "415518f1-b5b6-4e22-e6bb-b66f1b2bfa5d",
        "colab": {
          "base_uri": "https://localhost:8080/",
          "height": 34
        }
      },
      "source": [
        "def factorslist(n):\n",
        "    for i in range (1,n+1):\n",
        "        if n%i==0:\n",
        "            print(i,end=\" \")\n",
        "    return \n",
        "factorslist(12)\n"
      ],
      "execution_count": 0,
      "outputs": [
        {
          "output_type": "stream",
          "text": [
            "1 2 3 4 6 12 "
          ],
          "name": "stdout"
        }
      ]
    },
    {
      "cell_type": "code",
      "metadata": {
        "id": "ir1lhyxG1Y6D",
        "colab_type": "code",
        "outputId": "8644f4c0-44b4-4dac-a519-d26b2b34fb15",
        "colab": {
          "base_uri": "https://localhost:8080/",
          "height": 34
        }
      },
      "source": [
        "def fact(n):\n",
        "  fact =1\n",
        "  for i in range(2,n+1):\n",
        "    fact=fact*i\n",
        "  return fact\n",
        "def factSum(n):\n",
        "  sum=0\n",
        "  buffer=n\n",
        "  while n!=0:\n",
        "    r=n%10\n",
        "    sum= sum + fact(r)\n",
        "    n=n//10\n",
        "  if sum == buffer:\n",
        "    return \"Yes\"\n",
        "  else:\n",
        "    return \"No\"\n",
        "  \n",
        "factSum(145)\n",
        "  \n",
        "   \n",
        "    "
      ],
      "execution_count": 0,
      "outputs": [
        {
          "output_type": "execute_result",
          "data": {
            "text/plain": [
              "'Yes'"
            ]
          },
          "metadata": {
            "tags": []
          },
          "execution_count": 9
        }
      ]
    },
    {
      "cell_type": "code",
      "metadata": {
        "id": "AbT6nwq61Zh6",
        "colab_type": "code",
        "outputId": "dab8e17b-7223-4a56-90df-234e8ea51ba9",
        "colab": {
          "base_uri": "https://localhost:8080/",
          "height": 34
        }
      },
      "source": [
        "def isPalindrome(n):\n",
        "  rev = 0\n",
        "  x = n\n",
        "  while n!=0:\n",
        "    r = n%10\n",
        "    rev = rev*10 + r\n",
        "    n = n//10\n",
        "  if rev == x:\n",
        "    return True\n",
        "  else:\n",
        "    return False\n",
        "  return\n",
        "def countPalindrome(lb,ub):\n",
        "  c = 0\n",
        "  while lb!=ub:\n",
        "    if isPalindrome(lb)==True:\n",
        "      c=c+1\n",
        "    lb=lb+1\n",
        "  return c\n",
        "countPalindrome(1,10)\n",
        "  "
      ],
      "execution_count": 0,
      "outputs": [
        {
          "output_type": "execute_result",
          "data": {
            "text/plain": [
              "9"
            ]
          },
          "metadata": {
            "tags": []
          },
          "execution_count": 11
        }
      ]
    },
    {
      "cell_type": "code",
      "metadata": {
        "id": "A6jEWheQ1Zr6",
        "colab_type": "code",
        "outputId": "70b0c0ee-5390-4739-ae01-fe8ee5fae4fc",
        "colab": {
          "base_uri": "https://localhost:8080/",
          "height": 51
        }
      },
      "source": [
        "def factorsList(n):\n",
        "  sum = 0\n",
        "  for i in range(1,n//2+1):\n",
        "    if n%i==0:\n",
        "      sum=sum+i\n",
        "    return sum\n",
        "def isPerfect(n):\n",
        "  if factorsList(n)==n:\n",
        "    return True\n",
        "  return False\n",
        "def generatePerfect(lb,ub):\n",
        "  for x in range(lb,ub+1):\n",
        "    if isPerfect(x):\n",
        "      print(x,end=\"\")\n",
        "    print()  \n",
        "    return\n",
        "  \n",
        "generatePerfect(1,10)\n",
        "generatePerfect(1,100)\n",
        "\n",
        "      \n",
        "      \n",
        "  \n",
        " "
      ],
      "execution_count": 0,
      "outputs": [
        {
          "output_type": "stream",
          "text": [
            "\n",
            "\n"
          ],
          "name": "stdout"
        }
      ]
    },
    {
      "cell_type": "code",
      "metadata": {
        "id": "WUBwdoeeDYY9",
        "colab_type": "code",
        "outputId": "6887b20d-a865-4b05-fd84-bf9d314c074c",
        "colab": {
          "base_uri": "https://localhost:8080/",
          "height": 34
        }
      },
      "source": [
        "s1 = 'Python'\n",
        "print(type(s1))"
      ],
      "execution_count": 0,
      "outputs": [
        {
          "output_type": "stream",
          "text": [
            "<class 'str'>\n"
          ],
          "name": "stdout"
        }
      ]
    },
    {
      "cell_type": "code",
      "metadata": {
        "id": "nsluLx1ZX-eZ",
        "colab_type": "code",
        "outputId": "00fc7527-0cea-409a-9b2f-0ac616935352",
        "colab": {
          "base_uri": "https://localhost:8080/",
          "height": 34
        }
      },
      "source": [
        "s1 = 'Python'\n",
        "print(s1[0])"
      ],
      "execution_count": 0,
      "outputs": [
        {
          "output_type": "stream",
          "text": [
            "P\n"
          ],
          "name": "stdout"
        }
      ]
    },
    {
      "cell_type": "code",
      "metadata": {
        "id": "F2BbYM6LX-mD",
        "colab_type": "code",
        "outputId": "e72ae6fe-f853-438e-e894-916a23550e73",
        "colab": {
          "base_uri": "https://localhost:8080/",
          "height": 34
        }
      },
      "source": [
        "s1 = 'Python'\n",
        "print(s1[1])"
      ],
      "execution_count": 0,
      "outputs": [
        {
          "output_type": "stream",
          "text": [
            "y\n"
          ],
          "name": "stdout"
        }
      ]
    },
    {
      "cell_type": "code",
      "metadata": {
        "id": "GsAT0lYCX-xT",
        "colab_type": "code",
        "outputId": "7c1a5c94-f58a-48e4-da46-d8ab988b0498",
        "colab": {
          "base_uri": "https://localhost:8080/",
          "height": 51
        }
      },
      "source": [
        "s1 = 'Python'\n",
        "print(s1[0])\n",
        "print(s1[len(s1)-1]) #access the last character"
      ],
      "execution_count": 0,
      "outputs": [
        {
          "output_type": "stream",
          "text": [
            "P\n",
            "n\n"
          ],
          "name": "stdout"
        }
      ]
    },
    {
      "cell_type": "code",
      "metadata": {
        "id": "tcKIQXUEZiU8",
        "colab_type": "code",
        "outputId": "cfde3deb-be6a-446b-8ae5-e37991d58bd6",
        "colab": {
          "base_uri": "https://localhost:8080/",
          "height": 34
        }
      },
      "source": [
        "s1 = 'Python'\n",
        "print(len(s1))"
      ],
      "execution_count": 0,
      "outputs": [
        {
          "output_type": "stream",
          "text": [
            "6\n"
          ],
          "name": "stdout"
        }
      ]
    },
    {
      "cell_type": "code",
      "metadata": {
        "id": "666iZ2IpZpuz",
        "colab_type": "code",
        "outputId": "9ac4f42e-dd63-42fb-803e-8d634f883518",
        "colab": {
          "base_uri": "https://localhost:8080/",
          "height": 187
        }
      },
      "source": [
        "s1 = 'Python'\n",
        "print(s1[-1])\n",
        "print(s1[-2])\n",
        "print(s1[0:2])\n",
        "print(s1[:2])\n",
        "print(s1[3:])\n",
        "print(s1[len(s1)//2])\n",
        "print(s1[-1::-1])\n",
        "print(s1[-1:3:-1])    \n",
        "print(s1[::2])\n",
        "def RevString(str):\n",
        "  return str[-1::-1]\n",
        "RevString(\"Programming\")\n",
        "def Pal(str):\n",
        "  if str == str[-1::-1]:\n",
        "    return True\n",
        "  else:\n",
        "    return False\n",
        "  return\n",
        "Pal('madam')\n",
        "                \n"
      ],
      "execution_count": 0,
      "outputs": [
        {
          "output_type": "stream",
          "text": [
            "n\n",
            "o\n",
            "Py\n",
            "Py\n",
            "hon\n",
            "h\n",
            "nohtyP\n",
            "no\n",
            "Pto\n"
          ],
          "name": "stdout"
        },
        {
          "output_type": "execute_result",
          "data": {
            "text/plain": [
              "True"
            ]
          },
          "metadata": {
            "tags": []
          },
          "execution_count": 29
        }
      ]
    },
    {
      "cell_type": "code",
      "metadata": {
        "id": "dX8ZdwVoaMyx",
        "colab_type": "code",
        "outputId": "799660e8-67ba-46be-82a4-d8372448906b",
        "colab": {
          "base_uri": "https://localhost:8080/",
          "height": 34
        }
      },
      "source": [
        "def printUpper(s):\n",
        "  for i in range(len(s)):\n",
        "    if ord(s[i])>=65 and ord(s[i])<=90:\n",
        "      print(s[i],end=\"\")\n",
        "  return\n",
        "printUpper(\"PytHon\")\n",
        "      \n",
        "  \n",
        "  \n",
        "  \n",
        "  \n",
        "  "
      ],
      "execution_count": 0,
      "outputs": [
        {
          "output_type": "stream",
          "text": [
            "PH"
          ],
          "name": "stdout"
        }
      ]
    },
    {
      "cell_type": "code",
      "metadata": {
        "id": "j513l97WZida",
        "colab_type": "code",
        "outputId": "07a36118-e2f6-47df-9827-17cefb74ddab",
        "colab": {
          "base_uri": "https://localhost:8080/",
          "height": 34
        }
      },
      "source": [
        "ord('a') #gives you the ASCII equivalent"
      ],
      "execution_count": 0,
      "outputs": [
        {
          "output_type": "execute_result",
          "data": {
            "text/plain": [
              "97"
            ]
          },
          "metadata": {
            "tags": []
          },
          "execution_count": 35
        }
      ]
    },
    {
      "cell_type": "code",
      "metadata": {
        "id": "9D0gkP9Yyoas",
        "colab_type": "code",
        "outputId": "cb3ef0be-5159-46ad-ae5f-a1ee3452bc12",
        "colab": {
          "base_uri": "https://localhost:8080/",
          "height": 34
        }
      },
      "source": [
        "def findCount(s):\n",
        "  cntUpper = 0\n",
        "  cntLower = 0\n",
        "  for i in range(len(s)):\n",
        "    if ord(s[i])>=65 and ord(s[i])<=90:\n",
        "      cntUpper = cntUpper + 1\n",
        "    elif ord(s[i])>=97 and ord(s[i])<=122:  \n",
        "      cntLower = cntLower + 1\n",
        "  if cntUpper == cntLower:\n",
        "    return \"Same Count\"\n",
        "  else:\n",
        "    return \"Programming\"\n",
        "  return\n",
        "findCount(\"PyTHon\")\n",
        "  \n",
        "  "
      ],
      "execution_count": 0,
      "outputs": [
        {
          "output_type": "execute_result",
          "data": {
            "text/plain": [
              "'Same Count'"
            ]
          },
          "metadata": {
            "tags": []
          },
          "execution_count": 42
        }
      ]
    },
    {
      "cell_type": "code",
      "metadata": {
        "id": "KT_ijodTyogn",
        "colab_type": "code",
        "outputId": "2dc79f1b-fbb3-4a2c-fcbb-414d48491dc0",
        "colab": {
          "base_uri": "https://localhost:8080/",
          "height": 34
        }
      },
      "source": [
        "def extractDigits(str):\n",
        "  for x in range(len(str)):\n",
        "    if ord(str[x])>=48 and ord(str[x])<=57:\n",
        "      print(str[x],end=\" \")\n",
        "  return\n",
        "extractDigits(\"Applicat8ion67\")\n",
        "      "
      ],
      "execution_count": 0,
      "outputs": [
        {
          "output_type": "stream",
          "text": [
            "8 6 7 "
          ],
          "name": "stdout"
        }
      ]
    },
    {
      "cell_type": "code",
      "metadata": {
        "id": "k-kgOHNU4-kw",
        "colab_type": "code",
        "outputId": "dfcc69a6-7372-4b37-c311-3490aba4a6bc",
        "colab": {
          "base_uri": "https://localhost:8080/",
          "height": 34
        }
      },
      "source": [
        "def sumofDigits(str):\n",
        "  sum=0\n",
        "  for x in range(len(str)):\n",
        "    if ord(str[x])>=48 and ord(str[x])<=57:\n",
        "      print(str[x],end=\" \")\n",
        "      sum=sum+(ord(str[x])-48)\n",
        "  \n",
        "  return sum\n",
        "sumofDigits(\"Applicat8ion67\")"
      ],
      "execution_count": 0,
      "outputs": [
        {
          "output_type": "stream",
          "text": [
            "8 6 7 "
          ],
          "name": "stdout"
        },
        {
          "output_type": "execute_result",
          "data": {
            "text/plain": [
              "21"
            ]
          },
          "metadata": {
            "tags": []
          },
          "execution_count": 49
        }
      ]
    },
    {
      "cell_type": "code",
      "metadata": {
        "id": "i-V0trXlyojo",
        "colab_type": "code",
        "outputId": "5093f5f6-bbfa-401c-f3b2-4417c98b1248",
        "colab": {
          "base_uri": "https://localhost:8080/",
          "height": 34
        }
      },
      "source": [
        "def wordUpperCase(s):\n",
        "  spaceCnt = 0\n",
        "  for x in range(len(s)):\n",
        "    if ord(s[x]) == 32:\n",
        "      spaceCnt += 1\n",
        "    if spaceCnt == 1:\n",
        "      if ord(s[x])>=65 and ord(s[x])<=90:\n",
        "        print(s[x], end = \"\")\n",
        "      elif ord(s[x])>=97 and ord(s[x])<=122:\n",
        "         print(chr(ord(s[x])-32),end=\"\")\n",
        "    if spaceCnt == 2:\n",
        "        break\n",
        "  return\n",
        "wordUpperCase('Python Made Easy')"
      ],
      "execution_count": 0,
      "outputs": [
        {
          "output_type": "stream",
          "text": [
            "MADE"
          ],
          "name": "stdout"
        }
      ]
    },
    {
      "cell_type": "code",
      "metadata": {
        "id": "QilBJ7gWGcc0",
        "colab_type": "code",
        "colab": {}
      },
      "source": [
        ""
      ],
      "execution_count": 0,
      "outputs": []
    }
  ]
}