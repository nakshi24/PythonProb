{
  "nbformat": 4,
  "nbformat_minor": 0,
  "metadata": {
    "colab": {
      "name": "Largest Digit.ipynb",
      "version": "0.3.2",
      "provenance": [],
      "include_colab_link": true
    },
    "kernelspec": {
      "name": "python3",
      "display_name": "Python 3"
    }
  },
  "cells": [
    {
      "cell_type": "markdown",
      "metadata": {
        "id": "view-in-github",
        "colab_type": "text"
      },
      "source": [
        "<a href=\"https://colab.research.google.com/github/nakshi24/PythonProb/blob/master/Largest_Digit.ipynb\" target=\"_parent\"><img src=\"https://colab.research.google.com/assets/colab-badge.svg\" alt=\"Open In Colab\"/></a>"
      ]
    },
    {
      "cell_type": "markdown",
      "metadata": {
        "id": "LBBs_Z04QRDS",
        "colab_type": "text"
      },
      "source": [
        "1. Write a python program to print the large digit from given number.\n"
      ]
    },
    {
      "cell_type": "code",
      "metadata": {
        "id": "BYXDSN89QWpa",
        "colab_type": "code",
        "colab": {
          "base_uri": "https://localhost:8080/",
          "height": 51
        },
        "outputId": "818c214a-7a4f-4a32-c480-c34952d54c4a"
      },
      "source": [
        "def largeDigit(n):\n",
        "  ld = 0\n",
        "  while n!= 0:\n",
        "    r = n%10\n",
        "    if ld<r:\n",
        "      ld = r\n",
        "    n = n//10\n",
        "  print(ld)\n",
        "  return\n",
        "n = int(input(\"Enter a number\"))\n",
        "largeDigit(n)\n",
        "  \n",
        "      "
      ],
      "execution_count": 2,
      "outputs": [
        {
          "output_type": "stream",
          "text": [
            "Enter a number567\n",
            "7\n"
          ],
          "name": "stdout"
        }
      ]
    }
  ]
}